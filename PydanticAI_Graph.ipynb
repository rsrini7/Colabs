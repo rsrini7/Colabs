{
  "nbformat": 4,
  "nbformat_minor": 0,
  "metadata": {
    "colab": {
      "provenance": [],
      "authorship_tag": "ABX9TyNgV46EJT5jeO4xJKTg2LqI",
      "include_colab_link": true
    },
    "kernelspec": {
      "name": "python3",
      "display_name": "Python 3"
    },
    "language_info": {
      "name": "python"
    }
  },
  "cells": [
    {
      "cell_type": "markdown",
      "metadata": {
        "id": "view-in-github",
        "colab_type": "text"
      },
      "source": [
        "<a href=\"https://colab.research.google.com/github/rsrini7/Colabs/blob/main/PydanticAI_Graph.ipynb\" target=\"_parent\"><img src=\"https://colab.research.google.com/assets/colab-badge.svg\" alt=\"Open In Colab\"/></a>"
      ]
    },
    {
      "cell_type": "code",
      "execution_count": 6,
      "metadata": {
        "id": "EgLEl41VV2kc"
      },
      "outputs": [],
      "source": [
        "!pip install pydantic-graph pydantic-ai nest-asyncio -q"
      ]
    },
    {
      "cell_type": "code",
      "source": [
        "import nest_asyncio\n",
        "nest_asyncio.apply()\n",
        "\n",
        "from dataclasses import dataclass\n",
        "from pydantic_graph import GraphRunContext, BaseNode, Graph, End\n",
        "\n",
        "@dataclass\n",
        "class NodeA(BaseNode[int]):\n",
        "    track_number: int\n",
        "    async def run(self, ctx: GraphRunContext) -> BaseNode:\n",
        "        print(f'Calling Node A')\n",
        "        return NodeB(self.track_number)\n",
        "\n",
        "@dataclass\n",
        "class NodeB(BaseNode[int]):\n",
        "    track_number: int\n",
        "    async def run(self, ctx: GraphRunContext) -> BaseNode | End:\n",
        "        print(f'Calling Node B')\n",
        "        if self.track_number == 1:\n",
        "            return End(f'Stop at Node B with value --> {self.track_number}')\n",
        "        else:\n",
        "            return NodeC(self.track_number)\n",
        "\n",
        "@dataclass\n",
        "class NodeC(BaseNode[int]):\n",
        "    track_number: int\n",
        "    async def run(self, ctx: GraphRunContext) -> End:\n",
        "      print(f'Calling Node C')\n",
        "      return End(f'Value to be returned at Node C: {self.track_number}')\n",
        "\n",
        "\n",
        "graph = Graph(nodes=[NodeA, NodeB, NodeC])\n",
        "\n",
        "result = graph.run_sync(start_node=NodeA(track_number=4))\n",
        "\n",
        "print('-' * 40)\n",
        "print(f'Result: {result}')\n",
        "print(f'Result Persistence: {result.persistence}')"
      ],
      "metadata": {
        "colab": {
          "base_uri": "https://localhost:8080/"
        },
        "id": "d7r1wqiGV63B",
        "outputId": "b2a5fe97-d9fb-4877-eb4e-0295a5ae2e3d"
      },
      "execution_count": 30,
      "outputs": [
        {
          "output_type": "stream",
          "name": "stdout",
          "text": [
            "Calling Node A\n",
            "Calling Node B\n",
            "Calling Node C\n",
            "----------------------------------------\n",
            "Result: GraphRunResult(output='Value to be returned at Node C: 4', state=None)\n",
            "Result Persistence: SimpleStatePersistence(last_snapshot=EndSnapshot(state=None, result=End(data='Value to be returned at Node C: 4'), ts=datetime.datetime(2025, 5, 11, 4, 56, 34, 751566, tzinfo=datetime.timezone.utc), kind='end', id='end:ea5d92b5ae564f2aa89866d1d6d70265'))\n"
          ]
        }
      ]
    },
    {
      "cell_type": "code",
      "source": [
        "import nest_asyncio\n",
        "nest_asyncio.apply()\n",
        "\n",
        "from __future__ import annotations as _annotations\n",
        "from dataclasses import dataclass, field\n",
        "\n",
        "from pydantic import BaseModel, EmailStr\n",
        "from pydantic_ai import Agent\n",
        "from pydantic_ai.format_as_xml import format_as_xml\n",
        "from pydantic_ai.messages import ModelMessage\n",
        "from pydantic_graph import BaseNode, End, Graph, GraphRunContext\n",
        "from pydantic_ai.models.openai import OpenAIModel\n",
        "from pydantic_ai.providers.openai import OpenAIProvider\n",
        "from google.colab import userdata\n",
        "\n",
        "\n",
        "@dataclass\n",
        "class User:\n",
        "  name: str\n",
        "  email: EmailStr\n",
        "  interests: list[str]\n",
        "\n",
        "@dataclass\n",
        "class State:\n",
        "  user: User\n",
        "  write_agent_messages: list[ModelMessage] = field(default_factory=list)\n",
        "\n",
        "@dataclass\n",
        "class Email:\n",
        "  subject: str\n",
        "  body: str\n",
        "\n",
        "class EmailRequiresWrite(BaseModel):\n",
        "  feedback: str\n",
        "\n",
        "class EmailOK(BaseModel):\n",
        "  pass\n",
        "\n",
        "openrouter_api_key = userdata.get('OPENROUTER_API_KEY')\n",
        "openai_model = OpenAIModel('openai/gpt-3.5-turbo',\n",
        "    provider=OpenAIProvider(api_key=openrouter_api_key,\n",
        "                    base_url=\"https://openrouter.ai/api/v1\",))\n",
        "\n",
        "\n",
        "email_writer_agent = Agent(\n",
        "    model=openai_model,\n",
        "    result_type=Email,\n",
        "    system_prompt='Write a welcome email for people who subscribe to my tech blog.'\n",
        ")\n",
        "\n",
        "feedback_agent = Agent(\n",
        "    model=openai_model,\n",
        "    result_type=EmailRequiresWrite | EmailOK,\n",
        "    system_prompt=(\n",
        "        'Review the email and provide feedback, email must reference the users specific interests.'\n",
        "    )\n",
        ")\n",
        "\n",
        "\n",
        "@dataclass\n",
        "class WriteEmail(BaseNode[State]):\n",
        "    email_feedback: str | None = None\n",
        "\n",
        "    async def run(self, ctx: GraphRunContext[State]) -> Feedback:\n",
        "        print(f\"{'-' * 50}\\nWriteEmail call fired. Email feedback: {self.email_feedback}\")\n",
        "        print()\n",
        "        if self.email_feedback:\n",
        "            prompt = (\n",
        "                f'Rewrite the email for the user:\\n'\n",
        "                f'{format_as_xml(ctx.state.user)}\\n'\n",
        "                f'Feedback: {self.email_feedback}'\n",
        "            )\n",
        "        else:\n",
        "            user_xml = f\"\"\"\n",
        "<examples>\n",
        "    <name>John Doe</name>\n",
        "    <email>john.joe@example.com</email>\n",
        "</examples>\n",
        "            \"\"\" # Note: The video shows example like this, but it should ideally use format_as_xml(ctx.state.user)\n",
        "            prompt = (\n",
        "                f'Write a welcome email for the user:\\n'\n",
        "                f'{format_as_xml(ctx.state.user)}' # Corrected to use actual user data\n",
        "            )\n",
        "        import asyncio\n",
        "        await asyncio.sleep(2)\n",
        "        result = await email_writer_agent.run(\n",
        "            prompt,\n",
        "            message_history=ctx.state.write_agent_messages,\n",
        "        )\n",
        "        print(f\"WriteEmail result Received. Result: {result.output}\")\n",
        "        print(f\"{'-' * 50}\")\n",
        "        ctx.state.write_agent_messages += result.all_messages()\n",
        "        return Feedback(result.output)\n",
        "\n",
        "from typing import Union\n",
        "\n",
        "@dataclass\n",
        "class Feedback(BaseNode[State, None, Email]): # State, Dependencies (None), Output (Email)\n",
        "    email: Email\n",
        "\n",
        "    async def run(self, ctx: GraphRunContext[State]) -> Union[WriteEmail, End]: # Changed return type annotation\n",
        "        print(f\"Feedback call fired. Email object received: {self.email}\")\n",
        "        print()\n",
        "\n",
        "        prompt = format_as_xml({'user': ctx.state.user, 'email': self.email})\n",
        "        import asyncio\n",
        "        await asyncio.sleep(2)\n",
        "        result = await feedback_agent.run(prompt)\n",
        "        print(f\"Feedback result received. Feedback result: {result.output}\")\n",
        "\n",
        "        if isinstance(result.output, EmailRequiresWrite):\n",
        "            return WriteEmail(email_feedback=result.output.feedback)\n",
        "        else: # EmailOK\n",
        "            # Return an End node containing the email content\n",
        "            return End(self.email.subject + '\\n' + self.email.body)\n",
        "\n",
        "\n",
        "feedback_graph = Graph(nodes=[WriteEmail, Feedback])\n",
        "\n",
        "user = User(\n",
        "    name='Jay',\n",
        "    email='jay@example.com',\n",
        "    interests=['AI Agent', 'Photography', 'Automation'],\n",
        ")\n",
        "\n",
        "state = State(user)\n",
        "# try:\n",
        "email = feedback_graph.run_sync(WriteEmail(), state=state)\n",
        "# except TypeError as e:\n",
        "#         print(f\"An error occurred: {e}\")\n",
        "print(email)"
      ],
      "metadata": {
        "colab": {
          "base_uri": "https://localhost:8080/",
          "height": 1000
        },
        "id": "dCXzletQbbfL",
        "outputId": "ceb2c40a-8416-44f1-f58e-e68c3d90b277"
      },
      "execution_count": 35,
      "outputs": [
        {
          "output_type": "stream",
          "name": "stdout",
          "text": [
            "--------------------------------------------------\n",
            "WriteEmail call fired. Email feedback: None\n",
            "\n"
          ]
        },
        {
          "output_type": "stream",
          "name": "stderr",
          "text": [
            "<ipython-input-35-49a30d599342>:82: DeprecationWarning: `format_as_xml` has moved, import it via `from pydantic_ai import format_as_xml`\n",
            "  f'{format_as_xml(ctx.state.user)}' # Corrected to use actual user data\n"
          ]
        },
        {
          "output_type": "stream",
          "name": "stdout",
          "text": [
            "WriteEmail result Received. Result: Email(subject='Welcome to Our Tech Blog, Jay!', body=\"Dear Jay,\\n\\nWelcome to our tech blog! We are thrilled to have you on board. Your interests in AI Agent, Photography, and Automation align perfectly with the exciting content we have in store for you.\\n\\nStay tuned for regular updates, insightful articles, and engaging discussions that cater to your tech passions.\\n\\nIf you have any specific topics you'd like us to cover or any feedback to share, feel free to reach out. We value your opinion and aim to provide you with the best tech experience.\\n\\nOnce again, welcome to our community of tech enthusiasts!\\n\\nBest regards,\\nThe Tech Blog Team\")\n",
            "--------------------------------------------------\n",
            "Feedback call fired. Email object received: Email(subject='Welcome to Our Tech Blog, Jay!', body=\"Dear Jay,\\n\\nWelcome to our tech blog! We are thrilled to have you on board. Your interests in AI Agent, Photography, and Automation align perfectly with the exciting content we have in store for you.\\n\\nStay tuned for regular updates, insightful articles, and engaging discussions that cater to your tech passions.\\n\\nIf you have any specific topics you'd like us to cover or any feedback to share, feel free to reach out. We value your opinion and aim to provide you with the best tech experience.\\n\\nOnce again, welcome to our community of tech enthusiasts!\\n\\nBest regards,\\nThe Tech Blog Team\")\n",
            "\n"
          ]
        },
        {
          "output_type": "stream",
          "name": "stderr",
          "text": [
            "<ipython-input-35-49a30d599342>:105: DeprecationWarning: `format_as_xml` has moved, import it via `from pydantic_ai import format_as_xml`\n",
            "  prompt = format_as_xml({'user': ctx.state.user, 'email': self.email})\n"
          ]
        },
        {
          "output_type": "stream",
          "name": "stdout",
          "text": [
            "Feedback result received. Feedback result: feedback=\"The email is well-written and personalized to Jay's interests. It effectively welcomes him to the tech blog and encourages engagement. Great job!\"\n",
            "--------------------------------------------------\n",
            "WriteEmail call fired. Email feedback: The email is well-written and personalized to Jay's interests. It effectively welcomes him to the tech blog and encourages engagement. Great job!\n",
            "\n"
          ]
        },
        {
          "output_type": "stream",
          "name": "stderr",
          "text": [
            "<ipython-input-35-49a30d599342>:70: DeprecationWarning: `format_as_xml` has moved, import it via `from pydantic_ai import format_as_xml`\n",
            "  f'{format_as_xml(ctx.state.user)}\\n'\n"
          ]
        },
        {
          "output_type": "stream",
          "name": "stdout",
          "text": [
            "WriteEmail result Received. Result: Email(subject='Welcome to Our Tech Blog, Jay!', body=\"Dear Jay,\\n\\nWelcome to our tech blog! We are thrilled to have you on board. Your interests in AI Agent, Photography, and Automation align perfectly with the exciting content we have in store for you.\\n\\nStay tuned for regular updates, insightful articles, and engaging discussions that cater to your tech passions.\\n\\nIf you have any specific topics you'd like us to cover or any feedback to share, feel free to reach out. We value your opinion and aim to provide you with the best tech experience.\\n\\nOnce again, welcome to our community of tech enthusiasts!\\n\\nBest regards,\\nThe Tech Blog Team\")\n",
            "--------------------------------------------------\n",
            "Feedback call fired. Email object received: Email(subject='Welcome to Our Tech Blog, Jay!', body=\"Dear Jay,\\n\\nWelcome to our tech blog! We are thrilled to have you on board. Your interests in AI Agent, Photography, and Automation align perfectly with the exciting content we have in store for you.\\n\\nStay tuned for regular updates, insightful articles, and engaging discussions that cater to your tech passions.\\n\\nIf you have any specific topics you'd like us to cover or any feedback to share, feel free to reach out. We value your opinion and aim to provide you with the best tech experience.\\n\\nOnce again, welcome to our community of tech enthusiasts!\\n\\nBest regards,\\nThe Tech Blog Team\")\n",
            "\n",
            "Feedback result received. Feedback result: feedback=\"The email is well-written and personalized to Jay's interests. It acknowledges his specific interests in AI Agent, Photography, and Automation, and creates a welcoming tone for him to engage with the tech blog content.\"\n",
            "--------------------------------------------------\n",
            "WriteEmail call fired. Email feedback: The email is well-written and personalized to Jay's interests. It acknowledges his specific interests in AI Agent, Photography, and Automation, and creates a welcoming tone for him to engage with the tech blog content.\n",
            "\n",
            "WriteEmail result Received. Result: Email(subject='Subscription Confirmation', body=\"Dear Jay,\\n\\nThank you for subscribing to our tech blog! Your interests in AI Agent, Photography, and Automation show that you're in for a tech-filled adventure. We can't wait to share our latest updates, tips, and insights with you.\\n\\nKeep an eye on your inbox for exciting content tailored to your interests. Feel free to explore our archives and let us know if there's anything specific you'd like us to cover.\\n\\nWe are thrilled to have you join our community of tech enthusiasts. Here's to an exciting journey ahead!\\n\\nBest regards,\\nThe Tech Blog Team\")\n",
            "--------------------------------------------------\n",
            "Feedback call fired. Email object received: Email(subject='Subscription Confirmation', body=\"Dear Jay,\\n\\nThank you for subscribing to our tech blog! Your interests in AI Agent, Photography, and Automation show that you're in for a tech-filled adventure. We can't wait to share our latest updates, tips, and insights with you.\\n\\nKeep an eye on your inbox for exciting content tailored to your interests. Feel free to explore our archives and let us know if there's anything specific you'd like us to cover.\\n\\nWe are thrilled to have you join our community of tech enthusiasts. Here's to an exciting journey ahead!\\n\\nBest regards,\\nThe Tech Blog Team\")\n",
            "\n",
            "Feedback result received. Feedback result: feedback=\"The email is personalized and engaging. It effectively highlights Jay's interests in AI Agent, Photography, and Automation.\"\n",
            "--------------------------------------------------\n",
            "WriteEmail call fired. Email feedback: The email is personalized and engaging. It effectively highlights Jay's interests in AI Agent, Photography, and Automation.\n",
            "\n",
            "WriteEmail result Received. Result: Email(subject='Welcome to Our Tech Blog, Jay!', body=\"Dear Jay,\\n\\nWelcome to our tech blog! We are excited to have you as part of our community. Your passion for AI Agent, Photography, and Automation is evident, and we look forward to sharing valuable content with you.\\n\\nStay tuned for updates, articles, and tips that cater to your interests. If you have any topics in mind that you'd like us to cover, feel free to let us know. We value your input and strive to create content that resonates with you.\\n\\nThank you for subscribing and joining us on this tech journey. We can't wait to explore the world of technology together!\\n\\nBest regards,\\nThe Tech Blog Team\")\n",
            "--------------------------------------------------\n",
            "Feedback call fired. Email object received: Email(subject='Welcome to Our Tech Blog, Jay!', body=\"Dear Jay,\\n\\nWelcome to our tech blog! We are excited to have you as part of our community. Your passion for AI Agent, Photography, and Automation is evident, and we look forward to sharing valuable content with you.\\n\\nStay tuned for updates, articles, and tips that cater to your interests. If you have any topics in mind that you'd like us to cover, feel free to let us know. We value your input and strive to create content that resonates with you.\\n\\nThank you for subscribing and joining us on this tech journey. We can't wait to explore the world of technology together!\\n\\nBest regards,\\nThe Tech Blog Team\")\n",
            "\n",
            "Feedback result received. Feedback result: feedback=\"The email content has been customized to reflect Jay's specific interests in AI Agent, Photography, and Automation. It emphasizes welcoming Jay to the tech blog community and expressing excitement about sharing valuable content related to his interests.\"\n",
            "--------------------------------------------------\n",
            "WriteEmail call fired. Email feedback: The email content has been customized to reflect Jay's specific interests in AI Agent, Photography, and Automation. It emphasizes welcoming Jay to the tech blog community and expressing excitement about sharing valuable content related to his interests.\n",
            "\n",
            "WriteEmail result Received. Result: Email(subject='Subscription and Welcome to Our Tech Blog, Jay!', body=\"Dear Jay,\\n\\nWelcome to our tech blog community! We are delighted to have you join us. Your enthusiasm for AI Agent, Photography, and Automation is fantastic, and we are eager to provide you with insightful and engaging content.\\n\\nStay connected with us for the latest updates, tips, and discussions tailored to your interests. If there are any specific topics you'd like us to cover, please don't hesitate to reach out. Your input matters to us, and we strive to deliver content that resonates with you.\\n\\nThank you for subscribing and becoming a part of our tech-savvy audience. Let's embark on a tech-filled journey together!\\n\\nBest regards,\\nThe Tech Blog Team\")\n",
            "--------------------------------------------------\n",
            "Feedback call fired. Email object received: Email(subject='Subscription and Welcome to Our Tech Blog, Jay!', body=\"Dear Jay,\\n\\nWelcome to our tech blog community! We are delighted to have you join us. Your enthusiasm for AI Agent, Photography, and Automation is fantastic, and we are eager to provide you with insightful and engaging content.\\n\\nStay connected with us for the latest updates, tips, and discussions tailored to your interests. If there are any specific topics you'd like us to cover, please don't hesitate to reach out. Your input matters to us, and we strive to deliver content that resonates with you.\\n\\nThank you for subscribing and becoming a part of our tech-savvy audience. Let's embark on a tech-filled journey together!\\n\\nBest regards,\\nThe Tech Blog Team\")\n",
            "\n",
            "Feedback result received. Feedback result: feedback=\"The email is personalized and engaging, referencing Jay's specific interests in AI Agent, Photography, and Automation. It encourages interaction by inviting Jay to suggest specific topics for coverage. Overall, it creates a welcoming tone and establishes a connection with Jay based on his interests.\"\n",
            "--------------------------------------------------\n",
            "WriteEmail call fired. Email feedback: The email is personalized and engaging, referencing Jay's specific interests in AI Agent, Photography, and Automation. It encourages interaction by inviting Jay to suggest specific topics for coverage. Overall, it creates a welcoming tone and establishes a connection with Jay based on his interests.\n",
            "\n",
            "WriteEmail result Received. Result: Email(subject='Welcome to Our Tech Blog, Jay!', body=\"Dear Jay,\\n\\nWelcome to our tech blog community! We are thrilled to have you onboard. Your passion for AI Agent, Photography, and Automation is evident, and we can't wait to share exciting content with you.\\n\\nStay tuned for regular updates, valuable insights, and engaging discussions that cater to your tech interests. If there are any particular topics you'd like us to explore or share feedback on, feel free to reach out. Your thoughts matter to us, and we aim to provide you with the best tech experience.\\n\\nThank you for subscribing and joining our community of tech enthusiasts. Here's to an inspiring journey ahead!\\n\\nBest regards,\\nThe Tech Blog Team\")\n",
            "--------------------------------------------------\n",
            "Feedback call fired. Email object received: Email(subject='Welcome to Our Tech Blog, Jay!', body=\"Dear Jay,\\n\\nWelcome to our tech blog community! We are thrilled to have you onboard. Your passion for AI Agent, Photography, and Automation is evident, and we can't wait to share exciting content with you.\\n\\nStay tuned for regular updates, valuable insights, and engaging discussions that cater to your tech interests. If there are any particular topics you'd like us to explore or share feedback on, feel free to reach out. Your thoughts matter to us, and we aim to provide you with the best tech experience.\\n\\nThank you for subscribing and joining our community of tech enthusiasts. Here's to an inspiring journey ahead!\\n\\nBest regards,\\nThe Tech Blog Team\")\n",
            "\n",
            "Feedback result received. Feedback result: feedback=\"The email is well-written and effectively acknowledges Jay's specific interests in AI Agent, Photography, and Automation. It creates a personalized and welcoming tone that resonates with Jay's tech passions.\"\n",
            "--------------------------------------------------\n",
            "WriteEmail call fired. Email feedback: The email is well-written and effectively acknowledges Jay's specific interests in AI Agent, Photography, and Automation. It creates a personalized and welcoming tone that resonates with Jay's tech passions.\n",
            "\n"
          ]
        },
        {
          "output_type": "error",
          "ename": "TypeError",
          "evalue": "'NoneType' object cannot be interpreted as an integer",
          "traceback": [
            "\u001b[0;31m---------------------------------------------------------------------------\u001b[0m",
            "\u001b[0;31mTypeError\u001b[0m                                 Traceback (most recent call last)",
            "\u001b[0;32m<ipython-input-35-49a30d599342>\u001b[0m in \u001b[0;36m<cell line: 0>\u001b[0;34m()\u001b[0m\n\u001b[1;32m    126\u001b[0m \u001b[0mstate\u001b[0m \u001b[0;34m=\u001b[0m \u001b[0mState\u001b[0m\u001b[0;34m(\u001b[0m\u001b[0muser\u001b[0m\u001b[0;34m)\u001b[0m\u001b[0;34m\u001b[0m\u001b[0;34m\u001b[0m\u001b[0m\n\u001b[1;32m    127\u001b[0m \u001b[0;31m# try:\u001b[0m\u001b[0;34m\u001b[0m\u001b[0;34m\u001b[0m\u001b[0m\n\u001b[0;32m--> 128\u001b[0;31m \u001b[0memail\u001b[0m \u001b[0;34m=\u001b[0m \u001b[0mfeedback_graph\u001b[0m\u001b[0;34m.\u001b[0m\u001b[0mrun_sync\u001b[0m\u001b[0;34m(\u001b[0m\u001b[0mWriteEmail\u001b[0m\u001b[0;34m(\u001b[0m\u001b[0;34m)\u001b[0m\u001b[0;34m,\u001b[0m \u001b[0mstate\u001b[0m\u001b[0;34m=\u001b[0m\u001b[0mstate\u001b[0m\u001b[0;34m)\u001b[0m\u001b[0;34m\u001b[0m\u001b[0;34m\u001b[0m\u001b[0m\n\u001b[0m\u001b[1;32m    129\u001b[0m \u001b[0;31m# except TypeError as e:\u001b[0m\u001b[0;34m\u001b[0m\u001b[0;34m\u001b[0m\u001b[0m\n\u001b[1;32m    130\u001b[0m \u001b[0;31m#         print(f\"An error occurred: {e}\")\u001b[0m\u001b[0;34m\u001b[0m\u001b[0;34m\u001b[0m\u001b[0m\n",
            "\u001b[0;32m/usr/local/lib/python3.11/dist-packages/pydantic_graph/graph.py\u001b[0m in \u001b[0;36mrun_sync\u001b[0;34m(self, start_node, state, deps, persistence, infer_name)\u001b[0m\n\u001b[1;32m    201\u001b[0m             \u001b[0mself\u001b[0m\u001b[0;34m.\u001b[0m\u001b[0m_infer_name\u001b[0m\u001b[0;34m(\u001b[0m\u001b[0minspect\u001b[0m\u001b[0;34m.\u001b[0m\u001b[0mcurrentframe\u001b[0m\u001b[0;34m(\u001b[0m\u001b[0;34m)\u001b[0m\u001b[0;34m)\u001b[0m\u001b[0;34m\u001b[0m\u001b[0;34m\u001b[0m\u001b[0m\n\u001b[1;32m    202\u001b[0m \u001b[0;34m\u001b[0m\u001b[0m\n\u001b[0;32m--> 203\u001b[0;31m         return _utils.get_event_loop().run_until_complete(\n\u001b[0m\u001b[1;32m    204\u001b[0m             \u001b[0mself\u001b[0m\u001b[0;34m.\u001b[0m\u001b[0mrun\u001b[0m\u001b[0;34m(\u001b[0m\u001b[0mstart_node\u001b[0m\u001b[0;34m,\u001b[0m \u001b[0mstate\u001b[0m\u001b[0;34m=\u001b[0m\u001b[0mstate\u001b[0m\u001b[0;34m,\u001b[0m \u001b[0mdeps\u001b[0m\u001b[0;34m=\u001b[0m\u001b[0mdeps\u001b[0m\u001b[0;34m,\u001b[0m \u001b[0mpersistence\u001b[0m\u001b[0;34m=\u001b[0m\u001b[0mpersistence\u001b[0m\u001b[0;34m,\u001b[0m \u001b[0minfer_name\u001b[0m\u001b[0;34m=\u001b[0m\u001b[0;32mFalse\u001b[0m\u001b[0;34m)\u001b[0m\u001b[0;34m\u001b[0m\u001b[0;34m\u001b[0m\u001b[0m\n\u001b[1;32m    205\u001b[0m         )\n",
            "\u001b[0;32m/usr/local/lib/python3.11/dist-packages/nest_asyncio.py\u001b[0m in \u001b[0;36mrun_until_complete\u001b[0;34m(self, future)\u001b[0m\n\u001b[1;32m     96\u001b[0m                 raise RuntimeError(\n\u001b[1;32m     97\u001b[0m                     'Event loop stopped before Future completed.')\n\u001b[0;32m---> 98\u001b[0;31m             \u001b[0;32mreturn\u001b[0m \u001b[0mf\u001b[0m\u001b[0;34m.\u001b[0m\u001b[0mresult\u001b[0m\u001b[0;34m(\u001b[0m\u001b[0;34m)\u001b[0m\u001b[0;34m\u001b[0m\u001b[0;34m\u001b[0m\u001b[0m\n\u001b[0m\u001b[1;32m     99\u001b[0m \u001b[0;34m\u001b[0m\u001b[0m\n\u001b[1;32m    100\u001b[0m     \u001b[0;32mdef\u001b[0m \u001b[0m_run_once\u001b[0m\u001b[0;34m(\u001b[0m\u001b[0mself\u001b[0m\u001b[0;34m)\u001b[0m\u001b[0;34m:\u001b[0m\u001b[0;34m\u001b[0m\u001b[0;34m\u001b[0m\u001b[0m\n",
            "\u001b[0;32m/usr/lib/python3.11/asyncio/futures.py\u001b[0m in \u001b[0;36mresult\u001b[0;34m(self)\u001b[0m\n\u001b[1;32m    201\u001b[0m         \u001b[0mself\u001b[0m\u001b[0;34m.\u001b[0m\u001b[0m__log_traceback\u001b[0m \u001b[0;34m=\u001b[0m \u001b[0;32mFalse\u001b[0m\u001b[0;34m\u001b[0m\u001b[0;34m\u001b[0m\u001b[0m\n\u001b[1;32m    202\u001b[0m         \u001b[0;32mif\u001b[0m \u001b[0mself\u001b[0m\u001b[0;34m.\u001b[0m\u001b[0m_exception\u001b[0m \u001b[0;32mis\u001b[0m \u001b[0;32mnot\u001b[0m \u001b[0;32mNone\u001b[0m\u001b[0;34m:\u001b[0m\u001b[0;34m\u001b[0m\u001b[0;34m\u001b[0m\u001b[0m\n\u001b[0;32m--> 203\u001b[0;31m             \u001b[0;32mraise\u001b[0m \u001b[0mself\u001b[0m\u001b[0;34m.\u001b[0m\u001b[0m_exception\u001b[0m\u001b[0;34m.\u001b[0m\u001b[0mwith_traceback\u001b[0m\u001b[0;34m(\u001b[0m\u001b[0mself\u001b[0m\u001b[0;34m.\u001b[0m\u001b[0m_exception_tb\u001b[0m\u001b[0;34m)\u001b[0m\u001b[0;34m\u001b[0m\u001b[0;34m\u001b[0m\u001b[0m\n\u001b[0m\u001b[1;32m    204\u001b[0m         \u001b[0;32mreturn\u001b[0m \u001b[0mself\u001b[0m\u001b[0;34m.\u001b[0m\u001b[0m_result\u001b[0m\u001b[0;34m\u001b[0m\u001b[0;34m\u001b[0m\u001b[0m\n\u001b[1;32m    205\u001b[0m \u001b[0;34m\u001b[0m\u001b[0m\n",
            "\u001b[0;32m/usr/lib/python3.11/asyncio/tasks.py\u001b[0m in \u001b[0;36m__step\u001b[0;34m(***failed resolving arguments***)\u001b[0m\n\u001b[1;32m    275\u001b[0m                 \u001b[0;31m# We use the `send` method directly, because coroutines\u001b[0m\u001b[0;34m\u001b[0m\u001b[0;34m\u001b[0m\u001b[0m\n\u001b[1;32m    276\u001b[0m                 \u001b[0;31m# don't have `__iter__` and `__next__` methods.\u001b[0m\u001b[0;34m\u001b[0m\u001b[0;34m\u001b[0m\u001b[0m\n\u001b[0;32m--> 277\u001b[0;31m                 \u001b[0mresult\u001b[0m \u001b[0;34m=\u001b[0m \u001b[0mcoro\u001b[0m\u001b[0;34m.\u001b[0m\u001b[0msend\u001b[0m\u001b[0;34m(\u001b[0m\u001b[0;32mNone\u001b[0m\u001b[0;34m)\u001b[0m\u001b[0;34m\u001b[0m\u001b[0;34m\u001b[0m\u001b[0m\n\u001b[0m\u001b[1;32m    278\u001b[0m             \u001b[0;32melse\u001b[0m\u001b[0;34m:\u001b[0m\u001b[0;34m\u001b[0m\u001b[0;34m\u001b[0m\u001b[0m\n\u001b[1;32m    279\u001b[0m                 \u001b[0mresult\u001b[0m \u001b[0;34m=\u001b[0m \u001b[0mcoro\u001b[0m\u001b[0;34m.\u001b[0m\u001b[0mthrow\u001b[0m\u001b[0;34m(\u001b[0m\u001b[0mexc\u001b[0m\u001b[0;34m)\u001b[0m\u001b[0;34m\u001b[0m\u001b[0;34m\u001b[0m\u001b[0m\n",
            "\u001b[0;32m/usr/local/lib/python3.11/dist-packages/pydantic_graph/graph.py\u001b[0m in \u001b[0;36mrun\u001b[0;34m(self, start_node, state, deps, persistence, infer_name)\u001b[0m\n\u001b[1;32m    165\u001b[0m             \u001b[0mstart_node\u001b[0m\u001b[0;34m,\u001b[0m \u001b[0mstate\u001b[0m\u001b[0;34m=\u001b[0m\u001b[0mstate\u001b[0m\u001b[0;34m,\u001b[0m \u001b[0mdeps\u001b[0m\u001b[0;34m=\u001b[0m\u001b[0mdeps\u001b[0m\u001b[0;34m,\u001b[0m \u001b[0mpersistence\u001b[0m\u001b[0;34m=\u001b[0m\u001b[0mpersistence\u001b[0m\u001b[0;34m,\u001b[0m \u001b[0minfer_name\u001b[0m\u001b[0;34m=\u001b[0m\u001b[0;32mFalse\u001b[0m\u001b[0;34m\u001b[0m\u001b[0;34m\u001b[0m\u001b[0m\n\u001b[1;32m    166\u001b[0m         ) as graph_run:\n\u001b[0;32m--> 167\u001b[0;31m             \u001b[0;32masync\u001b[0m \u001b[0;32mfor\u001b[0m \u001b[0m_node\u001b[0m \u001b[0;32min\u001b[0m \u001b[0mgraph_run\u001b[0m\u001b[0;34m:\u001b[0m\u001b[0;34m\u001b[0m\u001b[0;34m\u001b[0m\u001b[0m\n\u001b[0m\u001b[1;32m    168\u001b[0m                 \u001b[0;32mpass\u001b[0m\u001b[0;34m\u001b[0m\u001b[0;34m\u001b[0m\u001b[0m\n\u001b[1;32m    169\u001b[0m \u001b[0;34m\u001b[0m\u001b[0m\n",
            "\u001b[0;32m/usr/local/lib/python3.11/dist-packages/pydantic_graph/graph.py\u001b[0m in \u001b[0;36m__anext__\u001b[0;34m(self)\u001b[0m\n\u001b[1;32m    808\u001b[0m             \u001b[0;32mraise\u001b[0m \u001b[0mStopAsyncIteration\u001b[0m\u001b[0;34m\u001b[0m\u001b[0;34m\u001b[0m\u001b[0m\n\u001b[1;32m    809\u001b[0m \u001b[0;34m\u001b[0m\u001b[0m\n\u001b[0;32m--> 810\u001b[0;31m         \u001b[0;32mreturn\u001b[0m \u001b[0;32mawait\u001b[0m \u001b[0mself\u001b[0m\u001b[0;34m.\u001b[0m\u001b[0mnext\u001b[0m\u001b[0;34m(\u001b[0m\u001b[0mself\u001b[0m\u001b[0;34m.\u001b[0m\u001b[0m_next_node\u001b[0m\u001b[0;34m)\u001b[0m\u001b[0;34m\u001b[0m\u001b[0;34m\u001b[0m\u001b[0m\n\u001b[0m\u001b[1;32m    811\u001b[0m \u001b[0;34m\u001b[0m\u001b[0m\n\u001b[1;32m    812\u001b[0m     \u001b[0;32mdef\u001b[0m \u001b[0m__repr__\u001b[0m\u001b[0;34m(\u001b[0m\u001b[0mself\u001b[0m\u001b[0;34m)\u001b[0m \u001b[0;34m->\u001b[0m \u001b[0mstr\u001b[0m\u001b[0;34m:\u001b[0m\u001b[0;34m\u001b[0m\u001b[0;34m\u001b[0m\u001b[0m\n",
            "\u001b[0;32m/usr/local/lib/python3.11/dist-packages/pydantic_graph/graph.py\u001b[0m in \u001b[0;36mnext\u001b[0;34m(self, node)\u001b[0m\n\u001b[1;32m    781\u001b[0m             \u001b[0;32masync\u001b[0m \u001b[0;32mwith\u001b[0m \u001b[0mself\u001b[0m\u001b[0;34m.\u001b[0m\u001b[0mpersistence\u001b[0m\u001b[0;34m.\u001b[0m\u001b[0mrecord_run\u001b[0m\u001b[0;34m(\u001b[0m\u001b[0mnode_snapshot_id\u001b[0m\u001b[0;34m)\u001b[0m\u001b[0;34m:\u001b[0m\u001b[0;34m\u001b[0m\u001b[0;34m\u001b[0m\u001b[0m\n\u001b[1;32m    782\u001b[0m                 \u001b[0mctx\u001b[0m \u001b[0;34m=\u001b[0m \u001b[0mGraphRunContext\u001b[0m\u001b[0;34m(\u001b[0m\u001b[0mself\u001b[0m\u001b[0;34m.\u001b[0m\u001b[0mstate\u001b[0m\u001b[0;34m,\u001b[0m \u001b[0mself\u001b[0m\u001b[0;34m.\u001b[0m\u001b[0mdeps\u001b[0m\u001b[0;34m)\u001b[0m\u001b[0;34m\u001b[0m\u001b[0;34m\u001b[0m\u001b[0m\n\u001b[0;32m--> 783\u001b[0;31m                 \u001b[0mself\u001b[0m\u001b[0;34m.\u001b[0m\u001b[0m_next_node\u001b[0m \u001b[0;34m=\u001b[0m \u001b[0;32mawait\u001b[0m \u001b[0mnode\u001b[0m\u001b[0;34m.\u001b[0m\u001b[0mrun\u001b[0m\u001b[0;34m(\u001b[0m\u001b[0mctx\u001b[0m\u001b[0;34m)\u001b[0m\u001b[0;34m\u001b[0m\u001b[0;34m\u001b[0m\u001b[0m\n\u001b[0m\u001b[1;32m    784\u001b[0m \u001b[0;34m\u001b[0m\u001b[0m\n\u001b[1;32m    785\u001b[0m         \u001b[0;32mif\u001b[0m \u001b[0misinstance\u001b[0m\u001b[0;34m(\u001b[0m\u001b[0mself\u001b[0m\u001b[0;34m.\u001b[0m\u001b[0m_next_node\u001b[0m\u001b[0;34m,\u001b[0m \u001b[0mEnd\u001b[0m\u001b[0;34m)\u001b[0m\u001b[0;34m:\u001b[0m\u001b[0;34m\u001b[0m\u001b[0;34m\u001b[0m\u001b[0m\n",
            "\u001b[0;32m<ipython-input-35-49a30d599342>\u001b[0m in \u001b[0;36mrun\u001b[0;34m(self, ctx)\u001b[0m\n\u001b[1;32m     84\u001b[0m         \u001b[0;32mimport\u001b[0m \u001b[0masyncio\u001b[0m\u001b[0;34m\u001b[0m\u001b[0;34m\u001b[0m\u001b[0m\n\u001b[1;32m     85\u001b[0m         \u001b[0;32mawait\u001b[0m \u001b[0masyncio\u001b[0m\u001b[0;34m.\u001b[0m\u001b[0msleep\u001b[0m\u001b[0;34m(\u001b[0m\u001b[0;36m2\u001b[0m\u001b[0;34m)\u001b[0m\u001b[0;34m\u001b[0m\u001b[0;34m\u001b[0m\u001b[0m\n\u001b[0;32m---> 86\u001b[0;31m         result = await email_writer_agent.run(\n\u001b[0m\u001b[1;32m     87\u001b[0m             \u001b[0mprompt\u001b[0m\u001b[0;34m,\u001b[0m\u001b[0;34m\u001b[0m\u001b[0;34m\u001b[0m\u001b[0m\n\u001b[1;32m     88\u001b[0m             \u001b[0mmessage_history\u001b[0m\u001b[0;34m=\u001b[0m\u001b[0mctx\u001b[0m\u001b[0;34m.\u001b[0m\u001b[0mstate\u001b[0m\u001b[0;34m.\u001b[0m\u001b[0mwrite_agent_messages\u001b[0m\u001b[0;34m,\u001b[0m\u001b[0;34m\u001b[0m\u001b[0;34m\u001b[0m\u001b[0m\n",
            "\u001b[0;32m/usr/local/lib/python3.11/dist-packages/pydantic_ai/agent.py\u001b[0m in \u001b[0;36mrun\u001b[0;34m(self, user_prompt, output_type, message_history, model, deps, model_settings, usage_limits, usage, infer_name, **_deprecated_kwargs)\u001b[0m\n\u001b[1;32m    449\u001b[0m             \u001b[0musage\u001b[0m\u001b[0;34m=\u001b[0m\u001b[0musage\u001b[0m\u001b[0;34m,\u001b[0m\u001b[0;34m\u001b[0m\u001b[0;34m\u001b[0m\u001b[0m\n\u001b[1;32m    450\u001b[0m         ) as agent_run:\n\u001b[0;32m--> 451\u001b[0;31m             \u001b[0;32masync\u001b[0m \u001b[0;32mfor\u001b[0m \u001b[0m_\u001b[0m \u001b[0;32min\u001b[0m \u001b[0magent_run\u001b[0m\u001b[0;34m:\u001b[0m\u001b[0;34m\u001b[0m\u001b[0;34m\u001b[0m\u001b[0m\n\u001b[0m\u001b[1;32m    452\u001b[0m                 \u001b[0;32mpass\u001b[0m\u001b[0;34m\u001b[0m\u001b[0;34m\u001b[0m\u001b[0m\n\u001b[1;32m    453\u001b[0m \u001b[0;34m\u001b[0m\u001b[0m\n",
            "\u001b[0;32m/usr/local/lib/python3.11/dist-packages/pydantic_ai/agent.py\u001b[0m in \u001b[0;36m__anext__\u001b[0;34m(self)\u001b[0m\n\u001b[1;32m   1796\u001b[0m     ) -> _agent_graph.AgentNode[AgentDepsT, OutputDataT] | End[FinalResult[OutputDataT]]:\n\u001b[1;32m   1797\u001b[0m         \u001b[0;34m\"\"\"Advance to the next node automatically based on the last returned node.\"\"\"\u001b[0m\u001b[0;34m\u001b[0m\u001b[0;34m\u001b[0m\u001b[0m\n\u001b[0;32m-> 1798\u001b[0;31m         \u001b[0mnext_node\u001b[0m \u001b[0;34m=\u001b[0m \u001b[0;32mawait\u001b[0m \u001b[0mself\u001b[0m\u001b[0;34m.\u001b[0m\u001b[0m_graph_run\u001b[0m\u001b[0;34m.\u001b[0m\u001b[0m__anext__\u001b[0m\u001b[0;34m(\u001b[0m\u001b[0;34m)\u001b[0m\u001b[0;34m\u001b[0m\u001b[0;34m\u001b[0m\u001b[0m\n\u001b[0m\u001b[1;32m   1799\u001b[0m         \u001b[0;32mif\u001b[0m \u001b[0m_agent_graph\u001b[0m\u001b[0;34m.\u001b[0m\u001b[0mis_agent_node\u001b[0m\u001b[0;34m(\u001b[0m\u001b[0mnext_node\u001b[0m\u001b[0;34m)\u001b[0m\u001b[0;34m:\u001b[0m\u001b[0;34m\u001b[0m\u001b[0;34m\u001b[0m\u001b[0m\n\u001b[1;32m   1800\u001b[0m             \u001b[0;32mreturn\u001b[0m \u001b[0mnext_node\u001b[0m\u001b[0;34m\u001b[0m\u001b[0;34m\u001b[0m\u001b[0m\n",
            "\u001b[0;32m/usr/local/lib/python3.11/dist-packages/pydantic_graph/graph.py\u001b[0m in \u001b[0;36m__anext__\u001b[0;34m(self)\u001b[0m\n\u001b[1;32m    808\u001b[0m             \u001b[0;32mraise\u001b[0m \u001b[0mStopAsyncIteration\u001b[0m\u001b[0;34m\u001b[0m\u001b[0;34m\u001b[0m\u001b[0m\n\u001b[1;32m    809\u001b[0m \u001b[0;34m\u001b[0m\u001b[0m\n\u001b[0;32m--> 810\u001b[0;31m         \u001b[0;32mreturn\u001b[0m \u001b[0;32mawait\u001b[0m \u001b[0mself\u001b[0m\u001b[0;34m.\u001b[0m\u001b[0mnext\u001b[0m\u001b[0;34m(\u001b[0m\u001b[0mself\u001b[0m\u001b[0;34m.\u001b[0m\u001b[0m_next_node\u001b[0m\u001b[0;34m)\u001b[0m\u001b[0;34m\u001b[0m\u001b[0;34m\u001b[0m\u001b[0m\n\u001b[0m\u001b[1;32m    811\u001b[0m \u001b[0;34m\u001b[0m\u001b[0m\n\u001b[1;32m    812\u001b[0m     \u001b[0;32mdef\u001b[0m \u001b[0m__repr__\u001b[0m\u001b[0;34m(\u001b[0m\u001b[0mself\u001b[0m\u001b[0;34m)\u001b[0m \u001b[0;34m->\u001b[0m \u001b[0mstr\u001b[0m\u001b[0;34m:\u001b[0m\u001b[0;34m\u001b[0m\u001b[0;34m\u001b[0m\u001b[0m\n",
            "\u001b[0;32m/usr/local/lib/python3.11/dist-packages/pydantic_graph/graph.py\u001b[0m in \u001b[0;36mnext\u001b[0;34m(self, node)\u001b[0m\n\u001b[1;32m    781\u001b[0m             \u001b[0;32masync\u001b[0m \u001b[0;32mwith\u001b[0m \u001b[0mself\u001b[0m\u001b[0;34m.\u001b[0m\u001b[0mpersistence\u001b[0m\u001b[0;34m.\u001b[0m\u001b[0mrecord_run\u001b[0m\u001b[0;34m(\u001b[0m\u001b[0mnode_snapshot_id\u001b[0m\u001b[0;34m)\u001b[0m\u001b[0;34m:\u001b[0m\u001b[0;34m\u001b[0m\u001b[0;34m\u001b[0m\u001b[0m\n\u001b[1;32m    782\u001b[0m                 \u001b[0mctx\u001b[0m \u001b[0;34m=\u001b[0m \u001b[0mGraphRunContext\u001b[0m\u001b[0;34m(\u001b[0m\u001b[0mself\u001b[0m\u001b[0;34m.\u001b[0m\u001b[0mstate\u001b[0m\u001b[0;34m,\u001b[0m \u001b[0mself\u001b[0m\u001b[0;34m.\u001b[0m\u001b[0mdeps\u001b[0m\u001b[0;34m)\u001b[0m\u001b[0;34m\u001b[0m\u001b[0;34m\u001b[0m\u001b[0m\n\u001b[0;32m--> 783\u001b[0;31m                 \u001b[0mself\u001b[0m\u001b[0;34m.\u001b[0m\u001b[0m_next_node\u001b[0m \u001b[0;34m=\u001b[0m \u001b[0;32mawait\u001b[0m \u001b[0mnode\u001b[0m\u001b[0;34m.\u001b[0m\u001b[0mrun\u001b[0m\u001b[0;34m(\u001b[0m\u001b[0mctx\u001b[0m\u001b[0;34m)\u001b[0m\u001b[0;34m\u001b[0m\u001b[0;34m\u001b[0m\u001b[0m\n\u001b[0m\u001b[1;32m    784\u001b[0m \u001b[0;34m\u001b[0m\u001b[0m\n\u001b[1;32m    785\u001b[0m         \u001b[0;32mif\u001b[0m \u001b[0misinstance\u001b[0m\u001b[0;34m(\u001b[0m\u001b[0mself\u001b[0m\u001b[0;34m.\u001b[0m\u001b[0m_next_node\u001b[0m\u001b[0;34m,\u001b[0m \u001b[0mEnd\u001b[0m\u001b[0;34m)\u001b[0m\u001b[0;34m:\u001b[0m\u001b[0;34m\u001b[0m\u001b[0;34m\u001b[0m\u001b[0m\n",
            "\u001b[0;32m/usr/local/lib/python3.11/dist-packages/pydantic_ai/_agent_graph.py\u001b[0m in \u001b[0;36mrun\u001b[0;34m(self, ctx)\u001b[0m\n\u001b[1;32m    268\u001b[0m             \u001b[0;32mraise\u001b[0m \u001b[0mexceptions\u001b[0m\u001b[0;34m.\u001b[0m\u001b[0mAgentRunError\u001b[0m\u001b[0;34m(\u001b[0m\u001b[0;34m'You must finish streaming before calling run()'\u001b[0m\u001b[0;34m)\u001b[0m\u001b[0;34m\u001b[0m\u001b[0;34m\u001b[0m\u001b[0m\n\u001b[1;32m    269\u001b[0m \u001b[0;34m\u001b[0m\u001b[0m\n\u001b[0;32m--> 270\u001b[0;31m         \u001b[0;32mreturn\u001b[0m \u001b[0;32mawait\u001b[0m \u001b[0mself\u001b[0m\u001b[0;34m.\u001b[0m\u001b[0m_make_request\u001b[0m\u001b[0;34m(\u001b[0m\u001b[0mctx\u001b[0m\u001b[0;34m)\u001b[0m\u001b[0;34m\u001b[0m\u001b[0;34m\u001b[0m\u001b[0m\n\u001b[0m\u001b[1;32m    271\u001b[0m \u001b[0;34m\u001b[0m\u001b[0m\n\u001b[1;32m    272\u001b[0m     \u001b[0;34m@\u001b[0m\u001b[0masynccontextmanager\u001b[0m\u001b[0;34m\u001b[0m\u001b[0;34m\u001b[0m\u001b[0m\n",
            "\u001b[0;32m/usr/local/lib/python3.11/dist-packages/pydantic_ai/_agent_graph.py\u001b[0m in \u001b[0;36m_make_request\u001b[0;34m(self, ctx)\u001b[0m\n\u001b[1;32m    322\u001b[0m         \u001b[0mmodel_settings\u001b[0m\u001b[0;34m,\u001b[0m \u001b[0mmodel_request_parameters\u001b[0m \u001b[0;34m=\u001b[0m \u001b[0;32mawait\u001b[0m \u001b[0mself\u001b[0m\u001b[0;34m.\u001b[0m\u001b[0m_prepare_request\u001b[0m\u001b[0;34m(\u001b[0m\u001b[0mctx\u001b[0m\u001b[0;34m)\u001b[0m\u001b[0;34m\u001b[0m\u001b[0;34m\u001b[0m\u001b[0m\n\u001b[1;32m    323\u001b[0m         \u001b[0mmodel_request_parameters\u001b[0m \u001b[0;34m=\u001b[0m \u001b[0mctx\u001b[0m\u001b[0;34m.\u001b[0m\u001b[0mdeps\u001b[0m\u001b[0;34m.\u001b[0m\u001b[0mmodel\u001b[0m\u001b[0;34m.\u001b[0m\u001b[0mcustomize_request_parameters\u001b[0m\u001b[0;34m(\u001b[0m\u001b[0mmodel_request_parameters\u001b[0m\u001b[0;34m)\u001b[0m\u001b[0;34m\u001b[0m\u001b[0;34m\u001b[0m\u001b[0m\n\u001b[0;32m--> 324\u001b[0;31m         model_response, request_usage = await ctx.deps.model.request(\n\u001b[0m\u001b[1;32m    325\u001b[0m             \u001b[0mctx\u001b[0m\u001b[0;34m.\u001b[0m\u001b[0mstate\u001b[0m\u001b[0;34m.\u001b[0m\u001b[0mmessage_history\u001b[0m\u001b[0;34m,\u001b[0m \u001b[0mmodel_settings\u001b[0m\u001b[0;34m,\u001b[0m \u001b[0mmodel_request_parameters\u001b[0m\u001b[0;34m\u001b[0m\u001b[0;34m\u001b[0m\u001b[0m\n\u001b[1;32m    326\u001b[0m         )\n",
            "\u001b[0;32m/usr/local/lib/python3.11/dist-packages/pydantic_ai/models/openai.py\u001b[0m in \u001b[0;36mrequest\u001b[0;34m(self, messages, model_settings, model_request_parameters)\u001b[0m\n\u001b[1;32m    198\u001b[0m             \u001b[0mmessages\u001b[0m\u001b[0;34m,\u001b[0m \u001b[0;32mFalse\u001b[0m\u001b[0;34m,\u001b[0m \u001b[0mcast\u001b[0m\u001b[0;34m(\u001b[0m\u001b[0mOpenAIModelSettings\u001b[0m\u001b[0;34m,\u001b[0m \u001b[0mmodel_settings\u001b[0m \u001b[0;32mor\u001b[0m \u001b[0;34m{\u001b[0m\u001b[0;34m}\u001b[0m\u001b[0;34m)\u001b[0m\u001b[0;34m,\u001b[0m \u001b[0mmodel_request_parameters\u001b[0m\u001b[0;34m\u001b[0m\u001b[0;34m\u001b[0m\u001b[0m\n\u001b[1;32m    199\u001b[0m         )\n\u001b[0;32m--> 200\u001b[0;31m         \u001b[0;32mreturn\u001b[0m \u001b[0mself\u001b[0m\u001b[0;34m.\u001b[0m\u001b[0m_process_response\u001b[0m\u001b[0;34m(\u001b[0m\u001b[0mresponse\u001b[0m\u001b[0;34m)\u001b[0m\u001b[0;34m,\u001b[0m \u001b[0m_map_usage\u001b[0m\u001b[0;34m(\u001b[0m\u001b[0mresponse\u001b[0m\u001b[0;34m)\u001b[0m\u001b[0;34m\u001b[0m\u001b[0;34m\u001b[0m\u001b[0m\n\u001b[0m\u001b[1;32m    201\u001b[0m \u001b[0;34m\u001b[0m\u001b[0m\n\u001b[1;32m    202\u001b[0m     \u001b[0;34m@\u001b[0m\u001b[0masynccontextmanager\u001b[0m\u001b[0;34m\u001b[0m\u001b[0;34m\u001b[0m\u001b[0m\n",
            "\u001b[0;32m/usr/local/lib/python3.11/dist-packages/pydantic_ai/models/openai.py\u001b[0m in \u001b[0;36m_process_response\u001b[0;34m(self, response)\u001b[0m\n\u001b[1;32m    297\u001b[0m     \u001b[0;32mdef\u001b[0m \u001b[0m_process_response\u001b[0m\u001b[0;34m(\u001b[0m\u001b[0mself\u001b[0m\u001b[0;34m,\u001b[0m \u001b[0mresponse\u001b[0m\u001b[0;34m:\u001b[0m \u001b[0mchat\u001b[0m\u001b[0;34m.\u001b[0m\u001b[0mChatCompletion\u001b[0m\u001b[0;34m)\u001b[0m \u001b[0;34m->\u001b[0m \u001b[0mModelResponse\u001b[0m\u001b[0;34m:\u001b[0m\u001b[0;34m\u001b[0m\u001b[0;34m\u001b[0m\u001b[0m\n\u001b[1;32m    298\u001b[0m         \u001b[0;34m\"\"\"Process a non-streamed response, and prepare a message to return.\"\"\"\u001b[0m\u001b[0;34m\u001b[0m\u001b[0;34m\u001b[0m\u001b[0m\n\u001b[0;32m--> 299\u001b[0;31m         \u001b[0mtimestamp\u001b[0m \u001b[0;34m=\u001b[0m \u001b[0mdatetime\u001b[0m\u001b[0;34m.\u001b[0m\u001b[0mfromtimestamp\u001b[0m\u001b[0;34m(\u001b[0m\u001b[0mresponse\u001b[0m\u001b[0;34m.\u001b[0m\u001b[0mcreated\u001b[0m\u001b[0;34m,\u001b[0m \u001b[0mtz\u001b[0m\u001b[0;34m=\u001b[0m\u001b[0mtimezone\u001b[0m\u001b[0;34m.\u001b[0m\u001b[0mutc\u001b[0m\u001b[0;34m)\u001b[0m\u001b[0;34m\u001b[0m\u001b[0;34m\u001b[0m\u001b[0m\n\u001b[0m\u001b[1;32m    300\u001b[0m         \u001b[0mchoice\u001b[0m \u001b[0;34m=\u001b[0m \u001b[0mresponse\u001b[0m\u001b[0;34m.\u001b[0m\u001b[0mchoices\u001b[0m\u001b[0;34m[\u001b[0m\u001b[0;36m0\u001b[0m\u001b[0;34m]\u001b[0m\u001b[0;34m\u001b[0m\u001b[0;34m\u001b[0m\u001b[0m\n\u001b[1;32m    301\u001b[0m         \u001b[0mitems\u001b[0m\u001b[0;34m:\u001b[0m \u001b[0mlist\u001b[0m\u001b[0;34m[\u001b[0m\u001b[0mModelResponsePart\u001b[0m\u001b[0;34m]\u001b[0m \u001b[0;34m=\u001b[0m \u001b[0;34m[\u001b[0m\u001b[0;34m]\u001b[0m\u001b[0;34m\u001b[0m\u001b[0;34m\u001b[0m\u001b[0m\n",
            "\u001b[0;31mTypeError\u001b[0m: 'NoneType' object cannot be interpreted as an integer"
          ]
        }
      ]
    }
  ]
}