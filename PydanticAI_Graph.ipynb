{
  "nbformat": 4,
  "nbformat_minor": 0,
  "metadata": {
    "colab": {
      "provenance": [],
      "authorship_tag": "ABX9TyPghl3sxTdNeXJZyTI5T4Vt",
      "include_colab_link": true
    },
    "kernelspec": {
      "name": "python3",
      "display_name": "Python 3"
    },
    "language_info": {
      "name": "python"
    }
  },
  "cells": [
    {
      "cell_type": "markdown",
      "metadata": {
        "id": "view-in-github",
        "colab_type": "text"
      },
      "source": [
        "<a href=\"https://colab.research.google.com/github/rsrini7/Colabs/blob/main/PydanticAI_Graph.ipynb\" target=\"_parent\"><img src=\"https://colab.research.google.com/assets/colab-badge.svg\" alt=\"Open In Colab\"/></a>"
      ]
    },
    {
      "cell_type": "code",
      "execution_count": 6,
      "metadata": {
        "id": "EgLEl41VV2kc"
      },
      "outputs": [],
      "source": [
        "!pip install pydantic-graph pydantic-ai nest-asyncio -q"
      ]
    },
    {
      "cell_type": "code",
      "source": [
        "import nest_asyncio\n",
        "nest_asyncio.apply()\n",
        "\n",
        "from dataclasses import dataclass\n",
        "from pydantic_graph import GraphRunContext, BaseNode, Graph, End\n",
        "\n",
        "@dataclass\n",
        "class NodeA(BaseNode[int]):\n",
        "    track_number: int\n",
        "    async def run(self, ctx: GraphRunContext) -> BaseNode:\n",
        "        print(f'Calling Node A')\n",
        "        return NodeB(self.track_number)\n",
        "\n",
        "@dataclass\n",
        "class NodeB(BaseNode[int]):\n",
        "    track_number: int\n",
        "    async def run(self, ctx: GraphRunContext) -> BaseNode | End:\n",
        "        print(f'Calling Node B')\n",
        "        if self.track_number == 1:\n",
        "            return End(f'Stop at Node B with value --> {self.track_number}')\n",
        "        else:\n",
        "            return NodeC(self.track_number)\n",
        "\n",
        "@dataclass\n",
        "class NodeC(BaseNode[int]):\n",
        "    track_number: int\n",
        "    async def run(self, ctx: GraphRunContext) -> End:\n",
        "      print(f'Calling Node C')\n",
        "      return End(f'Value to be returned at Node C: {self.track_number}')\n",
        "\n",
        "\n",
        "graph = Graph(nodes=[NodeA, NodeB, NodeC])\n",
        "\n",
        "result = graph.run_sync(start_node=NodeA(track_number=4))\n",
        "\n",
        "print('-' * 40)\n",
        "print(f'Result: {result}')\n",
        "print(f'Result Persistence: {result.persistence}')"
      ],
      "metadata": {
        "colab": {
          "base_uri": "https://localhost:8080/"
        },
        "id": "d7r1wqiGV63B",
        "outputId": "a28a0491-ffc9-4609-abfe-ffc5a05bb147"
      },
      "execution_count": 15,
      "outputs": [
        {
          "output_type": "stream",
          "name": "stdout",
          "text": [
            "Calling Node A\n",
            "Calling Node B\n",
            "Calling Node C\n",
            "----------------------------------------\n",
            "Result: GraphRunResult(output='Value to be returned at Node C: 4', state=None)\n",
            "Result Persistence: SimpleStatePersistence(last_snapshot=EndSnapshot(state=None, result=End(data='Value to be returned at Node C: 4'), ts=datetime.datetime(2025, 5, 11, 3, 39, 55, 334144, tzinfo=datetime.timezone.utc), kind='end', id='end:a7bda02c74d345158aae2e480bbb00ca'))\n"
          ]
        }
      ]
    },
    {
      "cell_type": "code",
      "source": [
        "import nest_asyncio\n",
        "nest_asyncio.apply()\n",
        "\n",
        "from __future__ import annotations as _annotations\n",
        "from dataclasses import dataclass, field\n",
        "\n",
        "from pydantic import BaseModel, EmailStr\n",
        "from pydantic_ai import Agent\n",
        "from pydantic_ai.format_as_xml import format_as_xml\n",
        "from pydantic_ai.messages import ModelMessage\n",
        "from pydantic_graph import BaseNode, End, Graph, GraphRunContext\n",
        "from pydantic_ai.models.openai import OpenAIModel\n",
        "from pydantic_ai.providers.openai import OpenAIProvider\n",
        "from google.colab import userdata\n",
        "\n",
        "\n",
        "@dataclass\n",
        "class User:\n",
        "  name: str\n",
        "  email: EmailStr\n",
        "  interests: list[str]\n",
        "\n",
        "@dataclass\n",
        "class State:\n",
        "  user: User\n",
        "  write_agent_messages: list[ModelMessage] = field(default_factory=list)\n",
        "\n",
        "@dataclass\n",
        "class Email:\n",
        "  subject: str\n",
        "  body: str\n",
        "\n",
        "class EmailRequiresWrite(BaseModel):\n",
        "  feedback: str\n",
        "\n",
        "class EmailOK(BaseModel):\n",
        "  pass\n",
        "\n",
        "openrouter_api_key = userdata.get('OPENROUTER_API_KEY')\n",
        "openai_model = OpenAIModel('openai/gpt-3.5-turbo',\n",
        "    provider=OpenAIProvider(api_key=openrouter_api_key,\n",
        "                    base_url=\"https://openrouter.ai/api/v1\",))\n",
        "\n",
        "\n",
        "email_writer_agent = Agent(\n",
        "    model=openai_model,\n",
        "    result_type=Email,\n",
        "    system_prompt='Write a welcome email for people who subscribe to my tech blog.'\n",
        ")\n",
        "\n",
        "feedback_agent = Agent(\n",
        "    model=openai_model,\n",
        "    result_type=EmailRequiresWrite | EmailOK,\n",
        "    system_prompt=(\n",
        "        'Review the email and provide feedback, email must reference the users specific interests.'\n",
        "    )\n",
        ")\n",
        "\n",
        "\n",
        "@dataclass\n",
        "class WriteEmail(BaseNode[State]):\n",
        "    email_feedback: str | None = None\n",
        "\n",
        "    async def run(self, ctx: GraphRunContext[State]) -> Feedback:\n",
        "        print(f\"{'-' * 50}\\nWriteEmail call fired. Email feedback: {self.email_feedback}\")\n",
        "        print()\n",
        "        if self.email_feedback:\n",
        "            prompt = (\n",
        "                f'Rewrite the email for the user:\\n'\n",
        "                f'{format_as_xml(ctx.state.user)}\\n'\n",
        "                f'Feedback: {self.email_feedback}'\n",
        "            )\n",
        "        else:\n",
        "            user_xml = f\"\"\"\n",
        "<examples>\n",
        "    <name>John Doe</name>\n",
        "    <email>john.joe@example.com</email>\n",
        "</examples>\n",
        "            \"\"\" # Note: The video shows example like this, but it should ideally use format_as_xml(ctx.state.user)\n",
        "            prompt = (\n",
        "                f'Write a welcome email for the user:\\n'\n",
        "                f'{format_as_xml(ctx.state.user)}' # Corrected to use actual user data\n",
        "            )\n",
        "        import asyncio\n",
        "        await asyncio.sleep(2)\n",
        "        result = await email_writer_agent.run(\n",
        "            prompt,\n",
        "            message_history=ctx.state.write_agent_messages,\n",
        "        )\n",
        "        print(f\"WriteEmail result Received. Result: {result.output}\")\n",
        "        print(f\"{'-' * 50}\")\n",
        "        ctx.state.write_agent_messages += result.all_messages()\n",
        "        return Feedback(result.output)\n",
        "\n",
        "from typing import Union\n",
        "\n",
        "@dataclass\n",
        "class Feedback(BaseNode[State, None, Email]): # State, Dependencies (None), Output (Email)\n",
        "    email: Email\n",
        "\n",
        "    async def run(self, ctx: GraphRunContext[State]) -> Union[WriteEmail, End]: # Changed return type annotation\n",
        "        print(f\"Feedback call fired. Email object received: {self.email}\")\n",
        "        print()\n",
        "\n",
        "        prompt = format_as_xml({'user': ctx.state.user, 'email': self.email})\n",
        "        import asyncio\n",
        "        await asyncio.sleep(2)\n",
        "        result = await feedback_agent.run(prompt)\n",
        "        print(f\"Feedback result received. Feedback result: {result.output}\")\n",
        "\n",
        "        if isinstance(result.output, EmailRequiresWrite):\n",
        "            return WriteEmail(email_feedback=result.output.feedback)\n",
        "        else: # EmailOK\n",
        "            # Return an End node containing the email content\n",
        "            return End(self.email.subject + '\\n' + self.email.body)\n",
        "\n",
        "\n",
        "feedback_graph = Graph(nodes=[WriteEmail, Feedback])\n",
        "\n",
        "user = User(\n",
        "    name='Jay',\n",
        "    email='jay@example.com',\n",
        "    interests=['AI Agent', 'Photography', 'Automation'],\n",
        ")\n",
        "\n",
        "state = State(user)\n",
        "try:\n",
        "  email = feedback_graph.run_sync(WriteEmail(), state=state)\n",
        "except TypeError as e:\n",
        "        print(f\"An error occurred: {e}\")\n",
        "print(email)"
      ],
      "metadata": {
        "colab": {
          "base_uri": "https://localhost:8080/"
        },
        "id": "dCXzletQbbfL",
        "outputId": "df92d24a-fa93-4f15-ea03-4f71bbece846"
      },
      "execution_count": 29,
      "outputs": [
        {
          "output_type": "stream",
          "name": "stdout",
          "text": [
            "--------------------------------------------------\n",
            "WriteEmail call fired. Email feedback: None\n",
            "\n"
          ]
        },
        {
          "output_type": "stream",
          "name": "stderr",
          "text": [
            "<ipython-input-29-0966f4732f8e>:82: DeprecationWarning: `format_as_xml` has moved, import it via `from pydantic_ai import format_as_xml`\n",
            "  f'{format_as_xml(ctx.state.user)}' # Corrected to use actual user data\n"
          ]
        },
        {
          "output_type": "stream",
          "name": "stdout",
          "text": [
            "An error occurred: 'NoneType' object cannot be interpreted as an integer\n",
            "GraphRunResult(output=\"Welcome to Our Tech Blog, Jay!\\nHi Jay, \\n\\nWelcome to our tech blog! We are excited to have you join our community of tech enthusiasts. Your interests in AI Agent, Photography, and Automation resonate with the diverse topics we cover. \\n\\nPrepare to explore cutting-edge technologies, thoughtful articles, and interactive discussions. We look forward to sharing our latest updates and industry insights with you. \\n\\nIf you have any questions or ideas, please don't hesitate to reach out. \\n\\nStay tuned for captivating content, innovation, and tech news on our blog. Let's embark on an exciting journey through the world of technology together! \\n\\nWarm regards, \\nThe Tech Blog Team\", state=State(user=User(name='Jay', email='jay@example.com', interests=['AI Agent', 'Photography', 'Automation']), write_agent_messages=[ModelRequest(parts=[SystemPromptPart(content='Write a welcome email for people who subscribe to my tech blog.', timestamp=datetime.datetime(2025, 5, 11, 4, 23, 3, 302229, tzinfo=datetime.timezone.utc), dynamic_ref=None, part_kind='system-prompt'), UserPromptPart(content='Write a welcome email for the user:\\n<examples>\\n  <name>Jay</name>\\n  <email>jay@example.com</email>\\n  <interests>\\n    <example>AI Agent</example>\\n    <example>Photography</example>\\n    <example>Automation</example>\\n  </interests>\\n</examples>', timestamp=datetime.datetime(2025, 5, 11, 4, 23, 3, 302244, tzinfo=datetime.timezone.utc), part_kind='user-prompt')], instructions=None, kind='request'), ModelResponse(parts=[TextPart(content='', part_kind='text'), ToolCallPart(tool_name='final_result', args='{\"subject\": \"Welcome to Our Tech Blog!\", \"body\": \"Dear Jay, \\\\n\\\\nWelcome to our tech blog! We are thrilled to have you join our community of tech enthusiasts. Your interests in AI Agent, Photography, and Automation align perfectly with the diverse range of topics we cover. \\\\n\\\\nGet ready to delve into cutting-edge technologies, insightful articles, and engaging discussions. We can\\'t wait to share our latest updates and industry insights with you. \\\\n\\\\nIf you have any questions or suggestions, feel free to reach out to us at any time. \\\\n\\\\nStay tuned for exciting content, innovation, and tech news on our blog. Let\\'s explore the fascinating world of technology together! \\\\n\\\\nBest regards, \\\\nThe Tech Blog Team\"}', tool_call_id='call_KATNNIpG8vIgM0nDQR6vx7GX', part_kind='tool-call'), ToolCallPart(tool_name='final_result', args='{\"subject\": \"Thanks for Subscribing, Jay!\", \"body\": \"Hi Jay, \\\\n\\\\nThanks for subscribing to our tech blog! We\\'re honored to have you as part of our tech-savvy community. Your interests in AI Agent, Photography, and Automation show your passion for cutting-edge technology and innovation. \\\\n\\\\nExpect insightful articles, expert opinions, and engaging content on the latest tech trends. We\\'re committed to providing you with valuable information and a platform for meaningful discussions. \\\\n\\\\nFeel free to explore our blog and share your thoughts with us. Your input is invaluable to us! \\\\n\\\\nGet ready for a journey into the world of tech innovation and discovery. Stay connected for regular updates and tech news. \\\\n\\\\nWelcome aboard, Jay! Let\\'s explore, learn, and grow together in the realm of technology. \\\\n\\\\nWarm regards, \\\\nThe Tech Blog Team\"}', tool_call_id='call_iHjghCMgUvJ2IN2IagI28zDT', part_kind='tool-call')], model_name='openai/gpt-3.5-turbo', timestamp=datetime.datetime(2025, 5, 11, 4, 23, 3, tzinfo=datetime.timezone.utc), kind='response'), ModelRequest(parts=[ToolReturnPart(tool_name='final_result', content='Final result processed.', tool_call_id='call_KATNNIpG8vIgM0nDQR6vx7GX', timestamp=datetime.datetime(2025, 5, 11, 4, 23, 7, 467235, tzinfo=datetime.timezone.utc), part_kind='tool-return'), ToolReturnPart(tool_name='final_result', content='Output tool not used - a final result was already processed.', tool_call_id='call_iHjghCMgUvJ2IN2IagI28zDT', timestamp=datetime.datetime(2025, 5, 11, 4, 23, 7, 467248, tzinfo=datetime.timezone.utc), part_kind='tool-return')], instructions=None, kind='request'), ModelRequest(parts=[SystemPromptPart(content='Write a welcome email for people who subscribe to my tech blog.', timestamp=datetime.datetime(2025, 5, 11, 4, 23, 3, 302229, tzinfo=datetime.timezone.utc), dynamic_ref=None, part_kind='system-prompt'), UserPromptPart(content='Write a welcome email for the user:\\n<examples>\\n  <name>Jay</name>\\n  <email>jay@example.com</email>\\n  <interests>\\n    <example>AI Agent</example>\\n    <example>Photography</example>\\n    <example>Automation</example>\\n  </interests>\\n</examples>', timestamp=datetime.datetime(2025, 5, 11, 4, 23, 3, 302244, tzinfo=datetime.timezone.utc), part_kind='user-prompt')], instructions=None, kind='request'), ModelResponse(parts=[TextPart(content='', part_kind='text'), ToolCallPart(tool_name='final_result', args='{\"subject\": \"Welcome to Our Tech Blog!\", \"body\": \"Dear Jay, \\\\n\\\\nWelcome to our tech blog! We are thrilled to have you join our community of tech enthusiasts. Your interests in AI Agent, Photography, and Automation align perfectly with the diverse range of topics we cover. \\\\n\\\\nGet ready to delve into cutting-edge technologies, insightful articles, and engaging discussions. We can\\'t wait to share our latest updates and industry insights with you. \\\\n\\\\nIf you have any questions or suggestions, feel free to reach out to us at any time. \\\\n\\\\nStay tuned for exciting content, innovation, and tech news on our blog. Let\\'s explore the fascinating world of technology together! \\\\n\\\\nBest regards, \\\\nThe Tech Blog Team\"}', tool_call_id='call_KATNNIpG8vIgM0nDQR6vx7GX', part_kind='tool-call'), ToolCallPart(tool_name='final_result', args='{\"subject\": \"Thanks for Subscribing, Jay!\", \"body\": \"Hi Jay, \\\\n\\\\nThanks for subscribing to our tech blog! We\\'re honored to have you as part of our tech-savvy community. Your interests in AI Agent, Photography, and Automation show your passion for cutting-edge technology and innovation. \\\\n\\\\nExpect insightful articles, expert opinions, and engaging content on the latest tech trends. We\\'re committed to providing you with valuable information and a platform for meaningful discussions. \\\\n\\\\nFeel free to explore our blog and share your thoughts with us. Your input is invaluable to us! \\\\n\\\\nGet ready for a journey into the world of tech innovation and discovery. Stay connected for regular updates and tech news. \\\\n\\\\nWelcome aboard, Jay! Let\\'s explore, learn, and grow together in the realm of technology. \\\\n\\\\nWarm regards, \\\\nThe Tech Blog Team\"}', tool_call_id='call_iHjghCMgUvJ2IN2IagI28zDT', part_kind='tool-call')], model_name='openai/gpt-3.5-turbo', timestamp=datetime.datetime(2025, 5, 11, 4, 23, 3, tzinfo=datetime.timezone.utc), kind='response'), ModelRequest(parts=[ToolReturnPart(tool_name='final_result', content='Final result processed.', tool_call_id='call_KATNNIpG8vIgM0nDQR6vx7GX', timestamp=datetime.datetime(2025, 5, 11, 4, 23, 7, 467235, tzinfo=datetime.timezone.utc), part_kind='tool-return'), ToolReturnPart(tool_name='final_result', content='Output tool not used - a final result was already processed.', tool_call_id='call_iHjghCMgUvJ2IN2IagI28zDT', timestamp=datetime.datetime(2025, 5, 11, 4, 23, 7, 467248, tzinfo=datetime.timezone.utc), part_kind='tool-return')], instructions=None, kind='request'), ModelRequest(parts=[UserPromptPart(content=\"Rewrite the email for the user:\\n<examples>\\n  <name>Jay</name>\\n  <email>jay@example.com</email>\\n  <interests>\\n    <example>AI Agent</example>\\n    <example>Photography</example>\\n    <example>Automation</example>\\n  </interests>\\n</examples>\\nFeedback: The email is personalized and engaging, mentioning Jay's specific interests in AI Agent, Photography, and Automation. It sets a welcoming tone and invites Jay to explore the tech blog content further. It effectively communicates the excitement of having Jay as part of the community.\", timestamp=datetime.datetime(2025, 5, 11, 4, 23, 12, 422951, tzinfo=datetime.timezone.utc), part_kind='user-prompt')], instructions=None, kind='request'), ModelResponse(parts=[TextPart(content='', part_kind='text'), ToolCallPart(tool_name='final_result', args='{\"subject\":\"Welcome to Our Tech Blog, Jay!\",\"body\":\"Hi Jay, \\\\n\\\\nWelcome to our tech blog! We are thrilled to have you join our community of tech enthusiasts. Your interests in AI Agent, Photography, and Automation align perfectly with the diverse range of topics we cover. \\\\n\\\\nGet ready to delve into cutting-edge technologies, insightful articles, and engaging discussions. We can\\'t wait to share our latest updates and industry insights with you. \\\\n\\\\nIf you have any questions or suggestions, feel free to reach out to us at any time. \\\\n\\\\nStay tuned for exciting content, innovation, and tech news on our blog. Let\\'s explore the fascinating world of technology together! \\\\n\\\\nBest regards, \\\\nThe Tech Blog Team\"}', tool_call_id='call_e0hbdZeDv3p93u0crbDcm3d5', part_kind='tool-call')], model_name='openai/gpt-3.5-turbo', timestamp=datetime.datetime(2025, 5, 11, 4, 23, 12, tzinfo=datetime.timezone.utc), kind='response'), ModelRequest(parts=[ToolReturnPart(tool_name='final_result', content='Final result processed.', tool_call_id='call_e0hbdZeDv3p93u0crbDcm3d5', timestamp=datetime.datetime(2025, 5, 11, 4, 23, 15, 80159, tzinfo=datetime.timezone.utc), part_kind='tool-return')], instructions=None, kind='request'), ModelRequest(parts=[SystemPromptPart(content='Write a welcome email for people who subscribe to my tech blog.', timestamp=datetime.datetime(2025, 5, 11, 4, 23, 3, 302229, tzinfo=datetime.timezone.utc), dynamic_ref=None, part_kind='system-prompt'), UserPromptPart(content='Write a welcome email for the user:\\n<examples>\\n  <name>Jay</name>\\n  <email>jay@example.com</email>\\n  <interests>\\n    <example>AI Agent</example>\\n    <example>Photography</example>\\n    <example>Automation</example>\\n  </interests>\\n</examples>', timestamp=datetime.datetime(2025, 5, 11, 4, 23, 3, 302244, tzinfo=datetime.timezone.utc), part_kind='user-prompt')], instructions=None, kind='request'), ModelResponse(parts=[TextPart(content='', part_kind='text'), ToolCallPart(tool_name='final_result', args='{\"subject\": \"Welcome to Our Tech Blog!\", \"body\": \"Dear Jay, \\\\n\\\\nWelcome to our tech blog! We are thrilled to have you join our community of tech enthusiasts. Your interests in AI Agent, Photography, and Automation align perfectly with the diverse range of topics we cover. \\\\n\\\\nGet ready to delve into cutting-edge technologies, insightful articles, and engaging discussions. We can\\'t wait to share our latest updates and industry insights with you. \\\\n\\\\nIf you have any questions or suggestions, feel free to reach out to us at any time. \\\\n\\\\nStay tuned for exciting content, innovation, and tech news on our blog. Let\\'s explore the fascinating world of technology together! \\\\n\\\\nBest regards, \\\\nThe Tech Blog Team\"}', tool_call_id='call_KATNNIpG8vIgM0nDQR6vx7GX', part_kind='tool-call'), ToolCallPart(tool_name='final_result', args='{\"subject\": \"Thanks for Subscribing, Jay!\", \"body\": \"Hi Jay, \\\\n\\\\nThanks for subscribing to our tech blog! We\\'re honored to have you as part of our tech-savvy community. Your interests in AI Agent, Photography, and Automation show your passion for cutting-edge technology and innovation. \\\\n\\\\nExpect insightful articles, expert opinions, and engaging content on the latest tech trends. We\\'re committed to providing you with valuable information and a platform for meaningful discussions. \\\\n\\\\nFeel free to explore our blog and share your thoughts with us. Your input is invaluable to us! \\\\n\\\\nGet ready for a journey into the world of tech innovation and discovery. Stay connected for regular updates and tech news. \\\\n\\\\nWelcome aboard, Jay! Let\\'s explore, learn, and grow together in the realm of technology. \\\\n\\\\nWarm regards, \\\\nThe Tech Blog Team\"}', tool_call_id='call_iHjghCMgUvJ2IN2IagI28zDT', part_kind='tool-call')], model_name='openai/gpt-3.5-turbo', timestamp=datetime.datetime(2025, 5, 11, 4, 23, 3, tzinfo=datetime.timezone.utc), kind='response'), ModelRequest(parts=[ToolReturnPart(tool_name='final_result', content='Final result processed.', tool_call_id='call_KATNNIpG8vIgM0nDQR6vx7GX', timestamp=datetime.datetime(2025, 5, 11, 4, 23, 7, 467235, tzinfo=datetime.timezone.utc), part_kind='tool-return'), ToolReturnPart(tool_name='final_result', content='Output tool not used - a final result was already processed.', tool_call_id='call_iHjghCMgUvJ2IN2IagI28zDT', timestamp=datetime.datetime(2025, 5, 11, 4, 23, 7, 467248, tzinfo=datetime.timezone.utc), part_kind='tool-return')], instructions=None, kind='request'), ModelRequest(parts=[SystemPromptPart(content='Write a welcome email for people who subscribe to my tech blog.', timestamp=datetime.datetime(2025, 5, 11, 4, 23, 3, 302229, tzinfo=datetime.timezone.utc), dynamic_ref=None, part_kind='system-prompt'), UserPromptPart(content='Write a welcome email for the user:\\n<examples>\\n  <name>Jay</name>\\n  <email>jay@example.com</email>\\n  <interests>\\n    <example>AI Agent</example>\\n    <example>Photography</example>\\n    <example>Automation</example>\\n  </interests>\\n</examples>', timestamp=datetime.datetime(2025, 5, 11, 4, 23, 3, 302244, tzinfo=datetime.timezone.utc), part_kind='user-prompt')], instructions=None, kind='request'), ModelResponse(parts=[TextPart(content='', part_kind='text'), ToolCallPart(tool_name='final_result', args='{\"subject\": \"Welcome to Our Tech Blog!\", \"body\": \"Dear Jay, \\\\n\\\\nWelcome to our tech blog! We are thrilled to have you join our community of tech enthusiasts. Your interests in AI Agent, Photography, and Automation align perfectly with the diverse range of topics we cover. \\\\n\\\\nGet ready to delve into cutting-edge technologies, insightful articles, and engaging discussions. We can\\'t wait to share our latest updates and industry insights with you. \\\\n\\\\nIf you have any questions or suggestions, feel free to reach out to us at any time. \\\\n\\\\nStay tuned for exciting content, innovation, and tech news on our blog. Let\\'s explore the fascinating world of technology together! \\\\n\\\\nBest regards, \\\\nThe Tech Blog Team\"}', tool_call_id='call_KATNNIpG8vIgM0nDQR6vx7GX', part_kind='tool-call'), ToolCallPart(tool_name='final_result', args='{\"subject\": \"Thanks for Subscribing, Jay!\", \"body\": \"Hi Jay, \\\\n\\\\nThanks for subscribing to our tech blog! We\\'re honored to have you as part of our tech-savvy community. Your interests in AI Agent, Photography, and Automation show your passion for cutting-edge technology and innovation. \\\\n\\\\nExpect insightful articles, expert opinions, and engaging content on the latest tech trends. We\\'re committed to providing you with valuable information and a platform for meaningful discussions. \\\\n\\\\nFeel free to explore our blog and share your thoughts with us. Your input is invaluable to us! \\\\n\\\\nGet ready for a journey into the world of tech innovation and discovery. Stay connected for regular updates and tech news. \\\\n\\\\nWelcome aboard, Jay! Let\\'s explore, learn, and grow together in the realm of technology. \\\\n\\\\nWarm regards, \\\\nThe Tech Blog Team\"}', tool_call_id='call_iHjghCMgUvJ2IN2IagI28zDT', part_kind='tool-call')], model_name='openai/gpt-3.5-turbo', timestamp=datetime.datetime(2025, 5, 11, 4, 23, 3, tzinfo=datetime.timezone.utc), kind='response'), ModelRequest(parts=[ToolReturnPart(tool_name='final_result', content='Final result processed.', tool_call_id='call_KATNNIpG8vIgM0nDQR6vx7GX', timestamp=datetime.datetime(2025, 5, 11, 4, 23, 7, 467235, tzinfo=datetime.timezone.utc), part_kind='tool-return'), ToolReturnPart(tool_name='final_result', content='Output tool not used - a final result was already processed.', tool_call_id='call_iHjghCMgUvJ2IN2IagI28zDT', timestamp=datetime.datetime(2025, 5, 11, 4, 23, 7, 467248, tzinfo=datetime.timezone.utc), part_kind='tool-return')], instructions=None, kind='request'), ModelRequest(parts=[UserPromptPart(content=\"Rewrite the email for the user:\\n<examples>\\n  <name>Jay</name>\\n  <email>jay@example.com</email>\\n  <interests>\\n    <example>AI Agent</example>\\n    <example>Photography</example>\\n    <example>Automation</example>\\n  </interests>\\n</examples>\\nFeedback: The email is personalized and engaging, mentioning Jay's specific interests in AI Agent, Photography, and Automation. It sets a welcoming tone and invites Jay to explore the tech blog content further. It effectively communicates the excitement of having Jay as part of the community.\", timestamp=datetime.datetime(2025, 5, 11, 4, 23, 12, 422951, tzinfo=datetime.timezone.utc), part_kind='user-prompt')], instructions=None, kind='request'), ModelResponse(parts=[TextPart(content='', part_kind='text'), ToolCallPart(tool_name='final_result', args='{\"subject\":\"Welcome to Our Tech Blog, Jay!\",\"body\":\"Hi Jay, \\\\n\\\\nWelcome to our tech blog! We are thrilled to have you join our community of tech enthusiasts. Your interests in AI Agent, Photography, and Automation align perfectly with the diverse range of topics we cover. \\\\n\\\\nGet ready to delve into cutting-edge technologies, insightful articles, and engaging discussions. We can\\'t wait to share our latest updates and industry insights with you. \\\\n\\\\nIf you have any questions or suggestions, feel free to reach out to us at any time. \\\\n\\\\nStay tuned for exciting content, innovation, and tech news on our blog. Let\\'s explore the fascinating world of technology together! \\\\n\\\\nBest regards, \\\\nThe Tech Blog Team\"}', tool_call_id='call_e0hbdZeDv3p93u0crbDcm3d5', part_kind='tool-call')], model_name='openai/gpt-3.5-turbo', timestamp=datetime.datetime(2025, 5, 11, 4, 23, 12, tzinfo=datetime.timezone.utc), kind='response'), ModelRequest(parts=[ToolReturnPart(tool_name='final_result', content='Final result processed.', tool_call_id='call_e0hbdZeDv3p93u0crbDcm3d5', timestamp=datetime.datetime(2025, 5, 11, 4, 23, 15, 80159, tzinfo=datetime.timezone.utc), part_kind='tool-return')], instructions=None, kind='request'), ModelRequest(parts=[UserPromptPart(content=\"Rewrite the email for the user:\\n<examples>\\n  <name>Jay</name>\\n  <email>jay@example.com</email>\\n  <interests>\\n    <example>AI Agent</example>\\n    <example>Photography</example>\\n    <example>Automation</example>\\n  </interests>\\n</examples>\\nFeedback: The email is well-written and personalized to Jay's interests in AI Agent, Photography, and Automation. It effectively welcomes Jay to the tech blog community and highlights the alignment of his interests with the blog content. The closing message is inviting and encourages engagement. Great job!\", timestamp=datetime.datetime(2025, 5, 11, 4, 23, 20, 169766, tzinfo=datetime.timezone.utc), part_kind='user-prompt')], instructions=None, kind='request'), ModelResponse(parts=[TextPart(content='', part_kind='text'), ToolCallPart(tool_name='final_result', args='{\"subject\":\"Welcome to Our Tech Blog, Jay!\",\"body\":\"Hi Jay, \\\\n\\\\nWelcome to our tech blog! We are excited to have you join our community of tech enthusiasts. Your interests in AI Agent, Photography, and Automation resonate with the diverse topics we cover. \\\\n\\\\nPrepare to explore cutting-edge technologies, thoughtful articles, and interactive discussions. We look forward to sharing our latest updates and industry insights with you. \\\\n\\\\nIf you have any questions or ideas, please don\\'t hesitate to reach out. \\\\n\\\\nStay tuned for captivating content, innovation, and tech news on our blog. Let\\'s embark on an exciting journey through the world of technology together! \\\\n\\\\nWarm regards, \\\\nThe Tech Blog Team\"}', tool_call_id='call_pziY80HDgWq0uWGn7sZb0Otj', part_kind='tool-call')], model_name='openai/gpt-3.5-turbo', timestamp=datetime.datetime(2025, 5, 11, 4, 23, 20, tzinfo=datetime.timezone.utc), kind='response'), ModelRequest(parts=[ToolReturnPart(tool_name='final_result', content='Final result processed.', tool_call_id='call_pziY80HDgWq0uWGn7sZb0Otj', timestamp=datetime.datetime(2025, 5, 11, 4, 23, 22, 15795, tzinfo=datetime.timezone.utc), part_kind='tool-return')], instructions=None, kind='request')]))\n"
          ]
        }
      ]
    }
  ]
}