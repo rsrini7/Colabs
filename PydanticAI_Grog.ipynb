{
  "nbformat": 4,
  "nbformat_minor": 0,
  "metadata": {
    "colab": {
      "provenance": [],
      "authorship_tag": "ABX9TyNvPydcd2A91HjOLp3WzQ4/",
      "include_colab_link": true
    },
    "kernelspec": {
      "name": "python3",
      "display_name": "Python 3"
    },
    "language_info": {
      "name": "python"
    }
  },
  "cells": [
    {
      "cell_type": "markdown",
      "metadata": {
        "id": "view-in-github",
        "colab_type": "text"
      },
      "source": [
        "<a href=\"https://colab.research.google.com/github/rsrini7/Colabs/blob/main/PydanticAI_Grog.ipynb\" target=\"_parent\"><img src=\"https://colab.research.google.com/assets/colab-badge.svg\" alt=\"Open In Colab\"/></a>"
      ]
    },
    {
      "cell_type": "markdown",
      "source": [
        "# Building an Agentic System to enhance RAG with Self-Grading and Web Search Capabilities using Pydantic.AI, Groq and Langchain\n",
        "\n",
        "Reference: [Medium Article](https://medium.com/the-ai-forum/building-an-agentic-system-to-enhance-rag-with-self-grading-and-web-search-capabilities-using-3f9a1d885730)"
      ],
      "metadata": {
        "id": "FHSnmyGbxNp1"
      }
    },
    {
      "cell_type": "code",
      "execution_count": 6,
      "metadata": {
        "id": "7SkTxkpMneT_",
        "colab": {
          "base_uri": "https://localhost:8080/"
        },
        "outputId": "05178c13-7151-499d-fad0-a2b6df352467"
      },
      "outputs": [
        {
          "output_type": "stream",
          "name": "stdout",
          "text": [
            "\u001b[?25l     \u001b[90m━━━━━━━━━━━━━━━━━━━━━━━━━━━━━━━━━━━━━━━━\u001b[0m \u001b[32m0.0/67.3 kB\u001b[0m \u001b[31m?\u001b[0m eta \u001b[36m-:--:--\u001b[0m\r\u001b[2K     \u001b[90m━━━━━━━━━━━━━━━━━━━━━━━━━━━━━━━━━━━━━━━━\u001b[0m \u001b[32m67.3/67.3 kB\u001b[0m \u001b[31m2.5 MB/s\u001b[0m eta \u001b[36m0:00:00\u001b[0m\n",
            "\u001b[?25h  Installing build dependencies ... \u001b[?25l\u001b[?25hdone\n",
            "  Getting requirements to build wheel ... \u001b[?25l\u001b[?25hdone\n",
            "  Preparing metadata (pyproject.toml) ... \u001b[?25l\u001b[?25hdone\n",
            "\u001b[2K   \u001b[90m━━━━━━━━━━━━━━━━━━━━━━━━━━━━━━━━━━━━━━━━\u001b[0m \u001b[32m18.9/18.9 MB\u001b[0m \u001b[31m73.2 MB/s\u001b[0m eta \u001b[36m0:00:00\u001b[0m\n",
            "\u001b[2K   \u001b[90m━━━━━━━━━━━━━━━━━━━━━━━━━━━━━━━━━━━━━━━━\u001b[0m \u001b[32m94.9/94.9 kB\u001b[0m \u001b[31m6.3 MB/s\u001b[0m eta \u001b[36m0:00:00\u001b[0m\n",
            "\u001b[2K   \u001b[90m━━━━━━━━━━━━━━━━━━━━━━━━━━━━━━━━━━━━━━━━\u001b[0m \u001b[32m284.2/284.2 kB\u001b[0m \u001b[31m15.9 MB/s\u001b[0m eta \u001b[36m0:00:00\u001b[0m\n",
            "\u001b[2K   \u001b[90m━━━━━━━━━━━━━━━━━━━━━━━━━━━━━━━━━━━━━━━━\u001b[0m \u001b[32m2.0/2.0 MB\u001b[0m \u001b[31m67.1 MB/s\u001b[0m eta \u001b[36m0:00:00\u001b[0m\n",
            "\u001b[2K   \u001b[90m━━━━━━━━━━━━━━━━━━━━━━━━━━━━━━━━━━━━━━━━\u001b[0m \u001b[32m101.6/101.6 kB\u001b[0m \u001b[31m7.2 MB/s\u001b[0m eta \u001b[36m0:00:00\u001b[0m\n",
            "\u001b[2K   \u001b[90m━━━━━━━━━━━━━━━━━━━━━━━━━━━━━━━━━━━━━━━━\u001b[0m \u001b[32m16.4/16.4 MB\u001b[0m \u001b[31m62.5 MB/s\u001b[0m eta \u001b[36m0:00:00\u001b[0m\n",
            "\u001b[2K   \u001b[90m━━━━━━━━━━━━━━━━━━━━━━━━━━━━━━━━━━━━━━━━\u001b[0m \u001b[32m92.0/92.0 kB\u001b[0m \u001b[31m6.3 MB/s\u001b[0m eta \u001b[36m0:00:00\u001b[0m\n",
            "\u001b[2K   \u001b[90m━━━━━━━━━━━━━━━━━━━━━━━━━━━━━━━━━━━━━━━━\u001b[0m \u001b[32m459.8/459.8 kB\u001b[0m \u001b[31m22.4 MB/s\u001b[0m eta \u001b[36m0:00:00\u001b[0m\n",
            "\u001b[2K   \u001b[90m━━━━━━━━━━━━━━━━━━━━━━━━━━━━━━━━━━━━━━━━\u001b[0m \u001b[32m71.5/71.5 kB\u001b[0m \u001b[31m5.6 MB/s\u001b[0m eta \u001b[36m0:00:00\u001b[0m\n",
            "\u001b[2K   \u001b[90m━━━━━━━━━━━━━━━━━━━━━━━━━━━━━━━━━━━━━━━━\u001b[0m \u001b[32m4.0/4.0 MB\u001b[0m \u001b[31m56.4 MB/s\u001b[0m eta \u001b[36m0:00:00\u001b[0m\n",
            "\u001b[2K   \u001b[90m━━━━━━━━━━━━━━━━━━━━━━━━━━━━━━━━━━━━━━━━\u001b[0m \u001b[32m454.8/454.8 kB\u001b[0m \u001b[31m22.3 MB/s\u001b[0m eta \u001b[36m0:00:00\u001b[0m\n",
            "\u001b[2K   \u001b[90m━━━━━━━━━━━━━━━━━━━━━━━━━━━━━━━━━━━━━━━━\u001b[0m \u001b[32m46.0/46.0 kB\u001b[0m \u001b[31m3.1 MB/s\u001b[0m eta \u001b[36m0:00:00\u001b[0m\n",
            "\u001b[2K   \u001b[90m━━━━━━━━━━━━━━━━━━━━━━━━━━━━━━━━━━━━━━━━\u001b[0m \u001b[32m86.8/86.8 kB\u001b[0m \u001b[31m6.4 MB/s\u001b[0m eta \u001b[36m0:00:00\u001b[0m\n",
            "\u001b[?25h  Building wheel for pypika (pyproject.toml) ... \u001b[?25l\u001b[?25hdone\n"
          ]
        }
      ],
      "source": [
        "!pip install chromadb pydantic-ai nest_asyncio devtools 'pydantic-ai-slim[openai,groq,logfire]' tavily-python langchain langchain_community sentence_transformers langchain_huggingface pypdf -qU"
      ]
    },
    {
      "cell_type": "code",
      "source": [
        "from dataclasses import dataclass\n",
        "@dataclass\n",
        "class Deps:\n",
        "    question:str |None\n",
        "    context:str |None\n",
        "    response:str |None\n",
        "\n",
        "from google.colab import userdata\n",
        "import os\n",
        "from pydantic_ai import Agent, RunContext, Tool\n",
        "from pydantic_ai.models.openai import OpenAIModel\n",
        "from pydantic_ai.providers.openai import OpenAIProvider\n",
        "from pydantic_ai.models.groq import GroqModel\n",
        "from langchain_community.vectorstores import Chroma\n",
        "from langchain_community.embeddings import HuggingFaceEmbeddings\n",
        "from langchain.document_loaders import PyPDFLoader\n",
        "from langchain.text_splitter import RecursiveCharacterTextSplitter\n",
        "\n",
        "from typing import List\n",
        "\n",
        "os.environ[\"OPENROUTER_API_KEY\"] = userdata.get('OPENROUTER_API_KEY')\n",
        "os.environ[\"GROQ_API_KEY\"] = userdata.get('GROQ_API_KEY')\n",
        "os.environ[\"TAVILY_API_KEY\"] = userdata.get('TAVILY_API_KEY')\n",
        "\n",
        "openrouter_api_key = userdata.get('OPENROUTER_API_KEY')\n",
        "openai_model = OpenAIModel('openai/gpt-3.5-turbo',\n",
        "    provider=OpenAIProvider(api_key=openrouter_api_key,\n",
        "                    base_url=\"https://openrouter.ai/api/v1\",))\n",
        "groq_model = GroqModel(\"llama-3.3-70b-versatile\")\n",
        "\n",
        "persist_directory = \"./chroma_data\"\n",
        "\n",
        "loader = PyPDFLoader(\"./data/Fibromyalgia_Final.pdf\")\n",
        "documents = loader.load()\n",
        "\n",
        "split_docs = RecursiveCharacterTextSplitter(chunk_size=500, chunk_overlap=50).split_documents(documents)\n",
        "\n",
        "#embeddings\n",
        "embedding = HuggingFaceEmbeddings(model_name=\"sentence-transformers/all-MiniLM-L6-v2\")\n",
        "\n",
        "#Build Index\n",
        "vectorstore = Chroma.from_documents(\n",
        "    documents=split_docs,\n",
        "    embedding=embedding,\n",
        "    persist_directory=persist_directory,\n",
        "    collection_name=\"fibromyalgia\"\n",
        ")\n",
        "\n",
        "import nest_asyncio\n",
        "nest_asyncio.apply()\n",
        "#\n",
        "groq_agent = Agent(groq_model,\n",
        "                   deps_type=Deps,\n",
        "                    retries=2,\n",
        "                    result_type=str,\n",
        "                   system_prompt=(\"You are a Helpful Assiatnt Profiocient in Answering concise,factful and to the point asnwers for questions asked based on the Context provided\"\n",
        "                   \"You have to Use the `rertiever_tool' to get relevent context and generate response based on the context retrieved\"\n",
        "                   \"\"\"You are a grading assistant. Evaluate the response based on:\n",
        "        1. Relevancy to the question\n",
        "        2. Faithfulness to the context\n",
        "        3. Context quality and completeness\n",
        "\n",
        "        lease grade the following response based on:\n",
        "        1. Relevancy (0-1): How well does it answer the question?\n",
        "        2. Faithfulness (0-1): How well does it stick to the provided context?\n",
        "        3. Context Quality (0-1): How complete and relevant is the provided context?\n",
        "\n",
        "        Question: {ctx.deps.query}\n",
        "        Context: {ctx.deps.context}\n",
        "        Response: {ctx.deps.response}\n",
        "\n",
        "        Also determine if web search is needed to augment the context.\n",
        "\n",
        "        Provide the grades and explanation in the JSON format with key atrributes 'Relevancy','Faithfulness','Context Quality','Needs Web Search':\n",
        "        {\"Relevancy\": <score>,\n",
        "        \"Faithfulness\": <score>,\n",
        "        \"Context Quality\": <score>,\n",
        "        \"Needs Web Search\": <true/false>,\n",
        "        \"Explanation\": <explanation>,\n",
        "        \"Answer\":<provide response based on the context from the `rertiever_tool' if 'Need Web Search' value is 'false' otherwise Use the `websearch_tool` function to generate the final reaponse}\"\"\"\n",
        "        ),\n",
        "        )\n",
        "\n",
        "@groq_agent.tool_plain\n",
        "async def websearch_tool(question) -> str:\n",
        "    \"\"\"check if the square is a winner\"\"\"\n",
        "    from tavily import TavilyClient\n",
        "    # Step 1. Instantiating your TavilyClient\n",
        "    tavily_client = TavilyClient(userdata.get('TAVILY_API_KEY'))\n",
        "\n",
        "    # Step 2. Executing a Q&A search query\n",
        "    answer = tavily_client.qna_search(query=question)\n",
        "\n",
        "    # Step 3. That's it! Your question has been answered!\n",
        "    print(f\"WEB SEARCH:{answer}\")\n",
        "    return answer\n",
        "\n",
        "@groq_agent.tool\n",
        "async def rertiever_tool( ctx: RunContext[Deps],question:str)-> List[str]:\n",
        "  load_vectorstore = Chroma(persist_directory=persist_directory, embedding_function=embedding,collection_name=\"fibromyalgia\")\n",
        "  docs = load_vectorstore.similarity_search(question,k=3)\n",
        "  documnets = [d.page_content for d in docs]\n",
        "  print(f\"RAG Retrieval:{documnets}\")\n",
        "  return documnets\n",
        "\n",
        "query = \"What is Fibromyalgia?\"\n",
        "response = groq_agent.run_sync(query)\n",
        "print(response)\n",
        "print(response.output)\n",
        "print(response.usage())\n",
        "print(\"--------------\")\n",
        "\n",
        "query = \"What is Fibromyalgia and what are it's causes?\"\n",
        "response = groq_agent.run_sync(query)\n",
        "print(response)\n",
        "print(\"--------------\")\n",
        "\n",
        "from langchain_core.output_parsers import JsonOutputParser\n",
        "print(response.output)\n",
        "parser = JsonOutputParser()\n",
        "print(parser.parse(response.output))\n",
        "print(parser.parse(response.output)['Answer'])\n",
        "print(response.usage())\n",
        "print(\"--------------\")\n",
        "\n",
        "query = \"What is the life expectancy of people suffering with fibromyalgia?\"\n",
        "response = groq_agent.run_sync(query)\n",
        "print(response.output)\n",
        "parser = JsonOutputParser()\n",
        "print(parser.parse(response.output))\n",
        "print(parser.parse(response.output)['Answer'])\n",
        "print(response.usage())"
      ],
      "metadata": {
        "colab": {
          "base_uri": "https://localhost:8080/"
        },
        "id": "RaI2MWs7qEP-",
        "outputId": "c3f05bef-0a7a-4bc6-d2e8-98d6c7472862"
      },
      "execution_count": 15,
      "outputs": [
        {
          "output_type": "stream",
          "name": "stdout",
          "text": [
            "RAG Retrieval:['Oman Medical Specialty Board\\nFibromyalgia Syndrome: An Overview of Pathophysiology, Diagnosis and \\nManagement\\nFirdous Jahan, Kashmira Nanji, Waris Qidwai, Rizwan Qasim\\nReceived: 15 Feb 2012 / Accepted: 28 Apr 2012\\n© OMSB, 2012\\nAbstract\\nFibromyalgia Syndrome (FMS) is a chronic condition causing \\npain, stiffness, and tenderness of the muscles, tendons, and \\njoints. It is also characterized by restless sleep, tiredness, fatigue, \\nanxiety, depression, and disturbances in bowel functions. The', 'Oman Medical Specialty Board\\nFibromyalgia Syndrome: An Overview of Pathophysiology, Diagnosis and \\nManagement\\nFirdous Jahan, Kashmira Nanji, Waris Qidwai, Rizwan Qasim\\nReceived: 15 Feb 2012 / Accepted: 28 Apr 2012\\n© OMSB, 2012\\nAbstract\\nFibromyalgia Syndrome (FMS) is a chronic condition causing \\npain, stiffness, and tenderness of the muscles, tendons, and \\njoints. It is also characterized by restless sleep, tiredness, fatigue, \\nanxiety, depression, and disturbances in bowel functions. The', 'Oman Medical Specialty Board\\nFibromyalgia Syndrome: An Overview of Pathophysiology, Diagnosis and \\nManagement\\nFirdous Jahan, Kashmira Nanji, Waris Qidwai, Rizwan Qasim\\nReceived: 15 Feb 2012 / Accepted: 28 Apr 2012\\n© OMSB, 2012\\nAbstract\\nFibromyalgia Syndrome (FMS) is a chronic condition causing \\npain, stiffness, and tenderness of the muscles, tendons, and \\njoints. It is also characterized by restless sleep, tiredness, fatigue, \\nanxiety, depression, and disturbances in bowel functions. The']\n",
            "AgentRunResult(output='{\"Relevancy\": 0.8, \\n\"Faithfulness\": 0.9, \\n\"Context Quality\": 0.7, \\n\"Needs Web Search\": false, \\n\"Explanation\": \"The provided context gives a general overview of Fibromyalgia, its characteristics, and symptoms. However, it is a bit limited in scope and does not provide a comprehensive understanding of the condition.\", \\n\"Answer\": \"Fibromyalgia is a chronic condition that causes pain, stiffness, and tenderness of the muscles, tendons, and joints. It is also characterized by restless sleep, tiredness, fatigue, anxiety, depression, and disturbances in bowel functions.\"}')\n",
            "{\"Relevancy\": 0.8, \n",
            "\"Faithfulness\": 0.9, \n",
            "\"Context Quality\": 0.7, \n",
            "\"Needs Web Search\": false, \n",
            "\"Explanation\": \"The provided context gives a general overview of Fibromyalgia, its characteristics, and symptoms. However, it is a bit limited in scope and does not provide a comprehensive understanding of the condition.\", \n",
            "\"Answer\": \"Fibromyalgia is a chronic condition that causes pain, stiffness, and tenderness of the muscles, tendons, and joints. It is also characterized by restless sleep, tiredness, fatigue, anxiety, depression, and disturbances in bowel functions.\"}\n",
            "Usage(requests=2, request_tokens=1671, response_tokens=161, total_tokens=1832, details=None)\n",
            "--------------\n",
            "RAG Retrieval:['etiology of fibromyalgia remains unknown, but recent advances \\nand discoveries have helped to unravel some of the mysteries \\nof this disease. Research highlights some of the biochemical, \\nmetabolic, and immunoregulatory abnormalities associated with \\nfibromyalgia. Management of FMS at the present time is very \\ndifficult as it has multiple etiological factors and psychological \\npredispositions; however, a patient centered approach is essential \\nto handle this problem.', 'etiology of fibromyalgia remains unknown, but recent advances \\nand discoveries have helped to unravel some of the mysteries \\nof this disease. Research highlights some of the biochemical, \\nmetabolic, and immunoregulatory abnormalities associated with \\nfibromyalgia. Management of FMS at the present time is very \\ndifficult as it has multiple etiological factors and psychological \\npredispositions; however, a patient centered approach is essential \\nto handle this problem.', 'etiology of fibromyalgia remains unknown, but recent advances \\nand discoveries have helped to unravel some of the mysteries \\nof this disease. Research highlights some of the biochemical, \\nmetabolic, and immunoregulatory abnormalities associated with \\nfibromyalgia. Management of FMS at the present time is very \\ndifficult as it has multiple etiological factors and psychological \\npredispositions; however, a patient centered approach is essential \\nto handle this problem.']\n",
            "AgentRunResult(output='{\"Relevancy\": 0.8, \\n\"Faithfulness\": 0.9, \\n\"Context Quality\": 0.7, \\n\"Needs Web Search\": false, \\n\"Explanation\": \"The context provides some information about the etiology of fibromyalgia, but it is not very detailed and does not fully answer the question. However, it does provide some relevant information about the biochemical, metabolic, and immunoregulatory abnormalities associated with fibromyalgia.\", \\n\"Answer\": \"Fibromyalgia is a disease with unknown etiology, but recent advances and discoveries have helped to unravel some of its mysteries. It is associated with biochemical, metabolic, and immunoregulatory abnormalities, and management is difficult due to multiple etiological factors and psychological predispositions. A patient-centered approach is essential to handle this problem.\"}')\n",
            "--------------\n",
            "{\"Relevancy\": 0.8, \n",
            "\"Faithfulness\": 0.9, \n",
            "\"Context Quality\": 0.7, \n",
            "\"Needs Web Search\": false, \n",
            "\"Explanation\": \"The context provides some information about the etiology of fibromyalgia, but it is not very detailed and does not fully answer the question. However, it does provide some relevant information about the biochemical, metabolic, and immunoregulatory abnormalities associated with fibromyalgia.\", \n",
            "\"Answer\": \"Fibromyalgia is a disease with unknown etiology, but recent advances and discoveries have helped to unravel some of its mysteries. It is associated with biochemical, metabolic, and immunoregulatory abnormalities, and management is difficult due to multiple etiological factors and psychological predispositions. A patient-centered approach is essential to handle this problem.\"}\n",
            "{'Relevancy': 0.8, 'Faithfulness': 0.9, 'Context Quality': 0.7, 'Needs Web Search': False, 'Explanation': 'The context provides some information about the etiology of fibromyalgia, but it is not very detailed and does not fully answer the question. However, it does provide some relevant information about the biochemical, metabolic, and immunoregulatory abnormalities associated with fibromyalgia.', 'Answer': 'Fibromyalgia is a disease with unknown etiology, but recent advances and discoveries have helped to unravel some of its mysteries. It is associated with biochemical, metabolic, and immunoregulatory abnormalities, and management is difficult due to multiple etiological factors and psychological predispositions. A patient-centered approach is essential to handle this problem.'}\n",
            "Fibromyalgia is a disease with unknown etiology, but recent advances and discoveries have helped to unravel some of its mysteries. It is associated with biochemical, metabolic, and immunoregulatory abnormalities, and management is difficult due to multiple etiological factors and psychological predispositions. A patient-centered approach is essential to handle this problem.\n",
            "Usage(requests=2, request_tokens=2493, response_tokens=196, total_tokens=2689, details=None)\n",
            "--------------\n",
            "RAG Retrieval:['Mar;19(2):111-117.\\n32. Culpepper L. Nonpharmacologic care of patients with fibromyalgia. J Clin \\nPsychiatry 2010 Aug;71(8):e20.\\n33. Jones KD, Adams D, Winters-Stone K, Burckhardt CS. A comprehensive \\nreview of 46 exercise treatment studies in fibromyalgia (1988-2005). Health \\nQual Life Outcomes 2006;4:67.\\n34. Busch AJ, Schachter CL, Overend TJ, Peloso PM, Barber KA. Exercise for \\nfibromyalgia: a systematic review. J Rheumatol 2008 Jun;35(6):1130-1144.', 'Mar;19(2):111-117.\\n32. Culpepper L. Nonpharmacologic care of patients with fibromyalgia. J Clin \\nPsychiatry 2010 Aug;71(8):e20.\\n33. Jones KD, Adams D, Winters-Stone K, Burckhardt CS. A comprehensive \\nreview of 46 exercise treatment studies in fibromyalgia (1988-2005). Health \\nQual Life Outcomes 2006;4:67.\\n34. Busch AJ, Schachter CL, Overend TJ, Peloso PM, Barber KA. Exercise for \\nfibromyalgia: a systematic review. J Rheumatol 2008 Jun;35(6):1130-1144.', 'Mar;19(2):111-117.\\n32. Culpepper L. Nonpharmacologic care of patients with fibromyalgia. J Clin \\nPsychiatry 2010 Aug;71(8):e20.\\n33. Jones KD, Adams D, Winters-Stone K, Burckhardt CS. A comprehensive \\nreview of 46 exercise treatment studies in fibromyalgia (1988-2005). Health \\nQual Life Outcomes 2006;4:67.\\n34. Busch AJ, Schachter CL, Overend TJ, Peloso PM, Barber KA. Exercise for \\nfibromyalgia: a systematic review. J Rheumatol 2008 Jun;35(6):1130-1144.']\n",
            "{\"Relevancy\": 0.2, \"Faithfulness\": 0.5, \"Context Quality\": 0.3, \"Needs Web Search\": true, \"Explanation\": \"The provided context does not directly address the question about the life expectancy of people suffering from fibromyalgia. The context appears to be related to exercise treatment studies for fibromyalgia, but it does not provide information on life expectancy. Therefore, a web search is needed to find the most accurate and up-to-date information on this topic.\", \"Answer\": \"A web search is required to provide an accurate answer.\"}\n",
            "{'Relevancy': 0.2, 'Faithfulness': 0.5, 'Context Quality': 0.3, 'Needs Web Search': True, 'Explanation': 'The provided context does not directly address the question about the life expectancy of people suffering from fibromyalgia. The context appears to be related to exercise treatment studies for fibromyalgia, but it does not provide information on life expectancy. Therefore, a web search is needed to find the most accurate and up-to-date information on this topic.', 'Answer': 'A web search is required to provide an accurate answer.'}\n",
            "A web search is required to provide an accurate answer.\n",
            "Usage(requests=2, request_tokens=1743, response_tokens=147, total_tokens=1890, details=None)\n"
          ]
        }
      ]
    }
  ]
}